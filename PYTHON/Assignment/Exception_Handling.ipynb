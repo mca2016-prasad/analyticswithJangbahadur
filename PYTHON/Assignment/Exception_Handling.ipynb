{
  "cells": [
    {
      "cell_type": "markdown",
      "id": "21e6329c-8cb2-4a70-b313-69cbab488365",
      "metadata": {
        "id": "21e6329c-8cb2-4a70-b313-69cbab488365"
      },
      "source": [
        "<h2>1. What is an Exception?</h2>\n",
        "An exception is an error that occurs during the execution of a program, disrupting the normal flow of instructions. Instead of terminating the program, Python provides a way to handle these exceptions and continue program execution."
      ]
    },
    {
      "cell_type": "markdown",
      "id": "661882f9-06ec-4825-99df-cc0cd908af11",
      "metadata": {
        "id": "661882f9-06ec-4825-99df-cc0cd908af11"
      },
      "source": [
        "<h2>2. Why Handle Exceptions?</h2>\n"
      ]
    },
    {
      "cell_type": "raw",
      "id": "3c52aa30-74b5-4abe-912b-525dd0701afb",
      "metadata": {
        "id": "3c52aa30-74b5-4abe-912b-525dd0701afb"
      },
      "source": [
        "1)Prevents abrupt termination of the program.\n",
        "2)Enables a graceful response to unexpected conditions.\n",
        "3)Allows for proper resource management (e.g., closing files)."
      ]
    },
    {
      "cell_type": "markdown",
      "id": "a1ffcf9c-5aa1-4267-8336-97575e7eb8af",
      "metadata": {
        "id": "a1ffcf9c-5aa1-4267-8336-97575e7eb8af"
      },
      "source": [
        "1)ValueError\n",
        "\n",
        "Occurs when a function receives an argument of the correct type but an inappropriate value."
      ]
    },
    {
      "cell_type": "code",
      "execution_count": null,
      "id": "aab35444-2d09-4497-aecb-3ba00f4b8df5",
      "metadata": {
        "id": "aab35444-2d09-4497-aecb-3ba00f4b8df5",
        "outputId": "ef60fed4-beb3-4e59-f8b7-d3525ffaf963"
      },
      "outputs": [
        {
          "name": "stdout",
          "output_type": "stream",
          "text": [
            "Error: Invalid input, cannot convert 'abc' to an integer.\n"
          ]
        }
      ],
      "source": [
        "try:\n",
        "    num = int(\"abc\")  # Invalid conversion from string to integer\n",
        "except ValueError:\n",
        "    print(\"Error: Invalid input, cannot convert 'abc' to an integer.\")\n"
      ]
    },
    {
      "cell_type": "markdown",
      "id": "8fe34838-ccdd-49b6-9440-fc8afb94d9df",
      "metadata": {
        "id": "8fe34838-ccdd-49b6-9440-fc8afb94d9df"
      },
      "source": [
        "2)TypeError\n",
        "\n",
        "Occurs when an operation or function is applied to an object of inappropriate type."
      ]
    },
    {
      "cell_type": "code",
      "execution_count": null,
      "id": "0d8e4be2-b7b6-42c3-ad46-27f269ce614e",
      "metadata": {
        "id": "0d8e4be2-b7b6-42c3-ad46-27f269ce614e",
        "outputId": "40b8ee84-1756-42e8-c0d3-7ac49a59f14e"
      },
      "outputs": [
        {
          "name": "stdout",
          "output_type": "stream",
          "text": [
            "Error: Cannot add a string and an integer.\n"
          ]
        }
      ],
      "source": [
        "try:\n",
        "    result = \"5\" + 5  # Adding string and integer\n",
        "except TypeError:\n",
        "    print(\"Error: Cannot add a string and an integer.\")\n"
      ]
    },
    {
      "cell_type": "markdown",
      "id": "d124636d-2774-410c-a209-0db56bdad056",
      "metadata": {
        "id": "d124636d-2774-410c-a209-0db56bdad056"
      },
      "source": [
        "3)IndexError\n",
        "\n",
        "Occurs when trying to access an index that is out of range for a list or another sequence."
      ]
    },
    {
      "cell_type": "code",
      "execution_count": null,
      "id": "2798d9db-3ac3-4915-9352-17c0fa82f46e",
      "metadata": {
        "id": "2798d9db-3ac3-4915-9352-17c0fa82f46e",
        "outputId": "c5dd5f08-53f8-4182-d105-d1d90fa26ad4"
      },
      "outputs": [
        {
          "name": "stdout",
          "output_type": "stream",
          "text": [
            "Error: List index is out of range.\n"
          ]
        }
      ],
      "source": [
        "my_list = [1, 2, 3]\n",
        "try:\n",
        "    print(my_list[5])  # Index out of range\n",
        "except IndexError:\n",
        "    print(\"Error: List index is out of range.\")\n"
      ]
    },
    {
      "cell_type": "markdown",
      "id": "4017a7b2-4693-42df-9c61-02e7a2268a34",
      "metadata": {
        "id": "4017a7b2-4693-42df-9c61-02e7a2268a34"
      },
      "source": [
        "4)KeyError\n",
        "\n",
        "Occurs when a dictionary key that doesn’t exist is accessed.\n",
        "\n"
      ]
    },
    {
      "cell_type": "code",
      "execution_count": null,
      "id": "5557e594-665f-4511-994b-cd648467b2bd",
      "metadata": {
        "id": "5557e594-665f-4511-994b-cd648467b2bd",
        "outputId": "00c513dd-6f22-4aed-edc5-5cd0a6d5095c"
      },
      "outputs": [
        {
          "name": "stdout",
          "output_type": "stream",
          "text": [
            "Error: Key 'address' not found in the dictionary.\n"
          ]
        }
      ],
      "source": [
        "my_dict = {\"name\": \"Alice\", \"age\": 30}\n",
        "try:\n",
        "    print(my_dict[\"address\"])  # Key doesn't exist in the dictionary\n",
        "except KeyError:\n",
        "    print(\"Error: Key 'address' not found in the dictionary.\")\n"
      ]
    },
    {
      "cell_type": "markdown",
      "id": "f171a2d3-cba0-4e8c-9b0a-afaca21f5fab",
      "metadata": {
        "id": "f171a2d3-cba0-4e8c-9b0a-afaca21f5fab"
      },
      "source": [
        "5)FileNotFoundError\n",
        "\n",
        "Occurs when trying to open a file that does not exist."
      ]
    },
    {
      "cell_type": "code",
      "execution_count": null,
      "id": "0a57272a-7e0b-4658-beef-d2122951858a",
      "metadata": {
        "id": "0a57272a-7e0b-4658-beef-d2122951858a",
        "outputId": "b129fee9-d525-4961-9d39-f4d1539b1a56"
      },
      "outputs": [
        {
          "name": "stdout",
          "output_type": "stream",
          "text": [
            "Error: The file you are trying to open does not exist.\n"
          ]
        }
      ],
      "source": [
        "try:\n",
        "    file = open(\"non_existent_file.txt\", \"r\")  # File does not exist\n",
        "except FileNotFoundError:\n",
        "    print(\"Error: The file you are trying to open does not exist.\")\n"
      ]
    },
    {
      "cell_type": "code",
      "execution_count": null,
      "id": "b9234e5f-9877-42f3-8cdc-d4a0a7122271",
      "metadata": {
        "id": "b9234e5f-9877-42f3-8cdc-d4a0a7122271",
        "outputId": "725bed27-b6ef-430b-a84f-992180bd97c9"
      },
      "outputs": [
        {
          "name": "stdin",
          "output_type": "stream",
          "text": [
            "Enter a number:  2.5\n"
          ]
        },
        {
          "name": "stdout",
          "output_type": "stream",
          "text": [
            "Invalid input. Please enter a valid integer.\n"
          ]
        }
      ],
      "source": [
        "try:\n",
        "    num = int(input(\"Enter a number: \"))\n",
        "    result = 100 / num\n",
        "    print(result)\n",
        "except ZeroDivisionError:\n",
        "    print(\"You cannot divide by zero!\")\n",
        "except ValueError:\n",
        "    print(\"Invalid input. Please enter a valid integer.\")\n"
      ]
    },
    {
      "cell_type": "raw",
      "id": "33a9a0d3-fce6-468f-b04a-ae3ee02bc655",
      "metadata": {
        "id": "33a9a0d3-fce6-468f-b04a-ae3ee02bc655"
      },
      "source": [
        "Explanation:\n",
        "If the user enters 0, the ZeroDivisionError will be raised, and the program will handle it without crashing.\n",
        "\n",
        "If the user enters a non-integer, like \"abc\", ValueError is raised and handled.\n"
      ]
    },
    {
      "cell_type": "code",
      "execution_count": null,
      "id": "29f1ca20-23b1-44c9-9da2-2f974859ef4f",
      "metadata": {
        "id": "29f1ca20-23b1-44c9-9da2-2f974859ef4f",
        "outputId": "e823bfb0-92a6-4ab7-dd52-e4c91e38ad16"
      },
      "outputs": [
        {
          "name": "stdin",
          "output_type": "stream",
          "text": [
            "Enter a number:  2.5\n"
          ]
        },
        {
          "name": "stdout",
          "output_type": "stream",
          "text": [
            "You cannot divide by zero! or Invalid input. Please enter a valid integer.\n"
          ]
        }
      ],
      "source": [
        "try:\n",
        "    num = int(input(\"Enter a number: \"))\n",
        "    result = 100 / num\n",
        "    print(result)\n",
        "except (ZeroDivisionError,ValueError):\n",
        "        print(\"You cannot divide by zero! or Invalid input. Please enter a valid integer.\")\n",
        "\n",
        "\n"
      ]
    },
    {
      "cell_type": "markdown",
      "id": "4c2e8326-dc78-4783-a34f-59c22193e0f0",
      "metadata": {
        "id": "4c2e8326-dc78-4783-a34f-59c22193e0f0"
      },
      "source": [
        "<h2>Real-World Example: File Handling with Exception</h2>\n",
        "File operations are common in applications, but many things can go wrong: the file might not exist, permission could be denied, or the file could be corrupted."
      ]
    },
    {
      "cell_type": "code",
      "execution_count": null,
      "id": "333cbe1b-aae5-45ee-a2c0-450e503a3536",
      "metadata": {
        "id": "333cbe1b-aae5-45ee-a2c0-450e503a3536",
        "outputId": "71f7de3c-6019-4efc-dfbc-4aadb421aadf"
      },
      "outputs": [
        {
          "name": "stdout",
          "output_type": "stream",
          "text": [
            "The file you are trying to open does not exist.\n"
          ]
        }
      ],
      "source": [
        "filename = \"data.txt\"\n",
        "file = None  # Initialize file variable\n",
        "\n",
        "try:\n",
        "    file = open(filename, \"r\")\n",
        "    content = file.read()\n",
        "    print(content)\n",
        "except FileNotFoundError:\n",
        "    print(\"The file you are trying to open does not exist.\")\n",
        "except PermissionError:\n",
        "    print(\"You do not have permission to access this file.\")\n",
        "finally:\n",
        "    if file:  # Only close the file if it was opened\n",
        "        file.close()\n"
      ]
    },
    {
      "cell_type": "raw",
      "id": "bf1d77fa-261a-4300-98f0-b8a67aa7dbc6",
      "metadata": {
        "id": "bf1d77fa-261a-4300-98f0-b8a67aa7dbc6"
      },
      "source": [
        "file = None ensures that file is initialized even if an exception occurs.\n",
        "In the finally block, if file: checks if the file was successfully opened. If it was not, file remains None, and the close() method is not called, preventing the NameError."
      ]
    },
    {
      "cell_type": "raw",
      "id": "04623bce-227a-44ff-8848-a1e4b470d54a",
      "metadata": {
        "id": "04623bce-227a-44ff-8848-a1e4b470d54a"
      },
      "source": [
        "FileNotFoundError: The file might not exist, so the code checks for this condition and provides a useful message.\n",
        "PermissionError: If access to the file is denied, it handles this gracefully.\n",
        "Finally Block: Ensures the file is closed whether an exception occurs or not, avoiding resource leaks."
      ]
    },
    {
      "cell_type": "markdown",
      "id": "1be697c2-d49a-4e43-abf6-c02917524d2e",
      "metadata": {
        "id": "1be697c2-d49a-4e43-abf6-c02917524d2e"
      },
      "source": [
        "<h1>Raising Exceptions</h1>\n",
        "You can force an exception to occur using the raise statement. This is useful when you want to validate inputs or handle special cases."
      ]
    },
    {
      "cell_type": "code",
      "execution_count": null,
      "id": "7bcb6281-bf4f-4103-bea5-6fce66fbd7f2",
      "metadata": {
        "id": "7bcb6281-bf4f-4103-bea5-6fce66fbd7f2",
        "outputId": "b5ec62ab-dbf3-440e-fc82-da0933818c0f"
      },
      "outputs": [
        {
          "name": "stdout",
          "output_type": "stream",
          "text": [
            "Cannot withdraw a negative amount\n"
          ]
        }
      ],
      "source": [
        "def withdraw(amount):\n",
        "    if amount < 0:\n",
        "        raise ValueError(\"Cannot withdraw a negative amount\")\n",
        "    print(f\"Withdrawing ${amount}\")\n",
        "\n",
        "try:\n",
        "    withdraw(-100)\n",
        "except ValueError as e:\n",
        "    print(e)"
      ]
    },
    {
      "cell_type": "raw",
      "id": "14325159-1e28-40f3-8595-bc22ff327b1d",
      "metadata": {
        "id": "14325159-1e28-40f3-8595-bc22ff327b1d"
      },
      "source": [
        "Explanation:\n",
        "The withdraw function raises a ValueError when a negative amount is passed. This helps maintain business rules (e.g., preventing withdrawals of negative amounts in a banking system).\n"
      ]
    },
    {
      "cell_type": "markdown",
      "id": "958add44-6ec6-48bc-ac15-4e418e8d00a4",
      "metadata": {
        "id": "958add44-6ec6-48bc-ac15-4e418e8d00a4"
      },
      "source": [
        " <h1>Catching Multiple Exceptions</h1>\n",
        "Sometimes, a block of code can raise multiple types of exceptions. Python allows catching them in a single except block or handling each exception differently."
      ]
    },
    {
      "cell_type": "code",
      "execution_count": null,
      "id": "ec87fe7b-df5e-4e4b-8ba1-df444fb04c7f",
      "metadata": {
        "id": "ec87fe7b-df5e-4e4b-8ba1-df444fb04c7f",
        "outputId": "be561fb7-968a-48ff-a4fd-adb09f4916eb"
      },
      "outputs": [
        {
          "name": "stdout",
          "output_type": "stream",
          "text": [
            "File not found.\n"
          ]
        }
      ],
      "source": [
        "try:\n",
        "    file = open(\"data.txt\", \"r\")\n",
        "    data = file.read()\n",
        "    num = int(data)\n",
        "    result = 10 / num\n",
        "except FileNotFoundError:\n",
        "    print(\"File not found.\")\n",
        "except ValueError:\n",
        "    print(\"File content is not a valid integer.\")\n",
        "except ZeroDivisionError:\n",
        "    print(\"Division by zero error.\")\n"
      ]
    },
    {
      "cell_type": "raw",
      "id": "b77ba5e0-94e9-40eb-ae03-048d91a541bf",
      "metadata": {
        "id": "b77ba5e0-94e9-40eb-ae03-048d91a541bf"
      },
      "source": [
        "Explanation:\n",
        "\n",
        "This handles different exceptions:\n",
        "If the file does not exist, a FileNotFoundError is raised.\n",
        "If the file contains non-numeric data, a ValueError is caught.\n",
        "If the file contains 0, ZeroDivisionError is caught."
      ]
    },
    {
      "cell_type": "markdown",
      "id": "a024f0b2-ea42-449e-8438-90a4884ec027",
      "metadata": {
        "id": "a024f0b2-ea42-449e-8438-90a4884ec027"
      },
      "source": [
        "<h1>The finally Block</h1>\n",
        "The finally block is always executed, regardless of whether an exception occurs or not. It is typically used for resource cleanup, like closing files or database connections."
      ]
    },
    {
      "cell_type": "code",
      "execution_count": null,
      "id": "26135d0e-f26a-4764-9130-b116ccec5c19",
      "metadata": {
        "id": "26135d0e-f26a-4764-9130-b116ccec5c19",
        "outputId": "16ec3e9c-aa7c-4fa8-a212-c5e2b2589418"
      },
      "outputs": [
        {
          "name": "stdin",
          "output_type": "stream",
          "text": [
            "enter num1:  12\n",
            "enter num2:  0\n"
          ]
        },
        {
          "name": "stdout",
          "output_type": "stream",
          "text": [
            "cannot divide by zero.\n",
            "execution successfull\n"
          ]
        }
      ],
      "source": [
        "try:\n",
        "     num1 = int(input(\"enter num1: \"))\n",
        "     num2 = int(input(\"enter num2: \"))\n",
        "     result = num1/num2\n",
        "except ZeroDivisionError:\n",
        "    print(\"cannot divide by zero.\")\n",
        "finally:\n",
        "    print(\"execution successfull\")"
      ]
    },
    {
      "cell_type": "markdown",
      "id": "43b5e0ae-5553-4f93-8723-873f3f402182",
      "metadata": {
        "id": "43b5e0ae-5553-4f93-8723-873f3f402182"
      },
      "source": [
        "<h1>The else Block</h1>\n",
        "The else block is executed only if no exceptions occur in the try block."
      ]
    },
    {
      "cell_type": "code",
      "execution_count": null,
      "id": "6209d21d-9b2d-4d6e-bee4-258332c62b01",
      "metadata": {
        "id": "6209d21d-9b2d-4d6e-bee4-258332c62b01",
        "outputId": "47ad36a2-2760-46e5-c4de-f5f531babfec"
      },
      "outputs": [
        {
          "name": "stdin",
          "output_type": "stream",
          "text": [
            "Enter a number:  0\n"
          ]
        },
        {
          "name": "stdout",
          "output_type": "stream",
          "text": [
            "Cannot divide by zero.\n"
          ]
        }
      ],
      "source": [
        "try:\n",
        "    num = int(input(\"Enter a number: \"))\n",
        "    result = 100 / num\n",
        "except ZeroDivisionError:\n",
        "    print(\"Cannot divide by zero.\")\n",
        "except ValueError:\n",
        "    print(\"Invalid input.\")\n",
        "else:\n",
        "    print(\"Result:\", result)"
      ]
    },
    {
      "cell_type": "code",
      "execution_count": null,
      "id": "208096d9-17a3-4515-ba83-cffcd016a612",
      "metadata": {
        "id": "208096d9-17a3-4515-ba83-cffcd016a612",
        "outputId": "51a0bd67-dbe7-495e-a917-16fd4aa7468c"
      },
      "outputs": [
        {
          "name": "stdin",
          "output_type": "stream",
          "text": [
            "Enter your account balance:  1200\n",
            "Enter the amount you want to withdraw:  1200\n"
          ]
        },
        {
          "name": "stdout",
          "output_type": "stream",
          "text": [
            "Transaction successful! Your new balance is: $0.00\n"
          ]
        }
      ],
      "source": [
        "\n"
      ]
    },
    {
      "cell_type": "markdown",
      "id": "09d69817-7f0a-47b4-8c24-d1f944d5cfb6",
      "metadata": {
        "id": "09d69817-7f0a-47b4-8c24-d1f944d5cfb6"
      },
      "source": [
        "<h1>Mini Project: Simple Banking System with Exception Handling</h1>\n",
        "\n",
        "<b>Problem Statement:</b>\n",
        "\n",
        "You must create a simple program simulating a bank account withdrawal process. The program should:\n",
        "\n",
        "1)Ask the user for their account balance and the amount they want to withdraw.\n",
        "\n",
        "2)Check for invalid inputs (e.g., non-numeric values).\n",
        "\n",
        "3)Handle cases such as trying to withdraw more money than available or trying to withdraw a negative amount.\n",
        "\n",
        "<b>Tasks to Handle:</b>\n",
        "\n",
        "1)Handle cases where the input is not a number.\n",
        "\n",
        "2)Handle cases where the withdrawal amount is greater than the account balance.\n",
        "\n",
        "3)Handle cases where the withdrawal amount is negative.\n",
        "\n",
        "4)Ensure the program handles any exception gracefully.\n"
      ]
    },
    {
      "cell_type": "code",
      "execution_count": null,
      "id": "a0d39870-29e5-498e-9f11-c464bcfc0c4c",
      "metadata": {
        "id": "a0d39870-29e5-498e-9f11-c464bcfc0c4c",
        "outputId": "fc5e04e8-6a56-4acb-e8c2-6a67acf2f942"
      },
      "outputs": [
        {
          "name": "stdin",
          "output_type": "stream",
          "text": [
            "Enter your account balance:  12\n",
            "Enter the amount you want to withdraw:  1\n"
          ]
        },
        {
          "name": "stdout",
          "output_type": "stream",
          "text": [
            "Transaction successful! Your new balance is: $11.00\n"
          ]
        }
      ],
      "source": [
        "# Input the account balance\n",
        "try:\n",
        "    balance = float(input(\"Enter your account balance: \"))\n",
        "except ValueError:\n",
        "    print(\"Error: Invalid input! Please enter a valid number for the balance.\")\n",
        "else:\n",
        "    # Input the withdrawal amount\n",
        "    try:\n",
        "        withdrawal_amount = float(input(\"Enter the amount you want to withdraw: \"))\n",
        "    except ValueError:\n",
        "        print(\"Error: Invalid input! Please enter a valid number for the withdrawal amount.\")\n",
        "    else:\n",
        "        # Check if withdrawal amount is greater than the balance\n",
        "        if withdrawal_amount > balance:\n",
        "            print(\"Error: Insufficient funds. You cannot withdraw more than your balance.\")\n",
        "        # Check if withdrawal amount is negative\n",
        "        elif withdrawal_amount < 0:\n",
        "            print(\"Error: You cannot withdraw a negative amount.\")\n",
        "        # If everything is valid, process the withdrawal\n",
        "        else:\n",
        "            balance -= withdrawal_amount\n",
        "            print(f\"Transaction successful! Your new balance is: ${balance:.2f}\")"
      ]
    },
    {
      "cell_type": "code",
      "execution_count": null,
      "id": "f7783d42-9c95-4310-9a14-140cd6e9af4f",
      "metadata": {
        "id": "f7783d42-9c95-4310-9a14-140cd6e9af4f",
        "outputId": "a1932b3c-a612-49dd-a040-4e401b6bec64"
      },
      "outputs": [
        {
          "name": "stdout",
          "output_type": "stream",
          "text": [
            "the result of 8  multiplied by 7 is 56\n"
          ]
        }
      ],
      "source": [
        "a = 8\n",
        "b= 7\n",
        "print(f\"the result of {a}  multiplied by {b} is {a*b}\")"
      ]
    },
    {
      "cell_type": "code",
      "execution_count": null,
      "id": "8421b640-2e67-47e3-bb52-2ec51dc60e8b",
      "metadata": {
        "id": "8421b640-2e67-47e3-bb52-2ec51dc60e8b",
        "outputId": "92cb419c-be63-4bc8-ab7b-81fc02caebfa"
      },
      "outputs": [
        {
          "name": "stdin",
          "output_type": "stream",
          "text": [
            "Enter a number:  0\n"
          ]
        },
        {
          "name": "stdout",
          "output_type": "stream",
          "text": [
            "You cannot divide by zero! or Invalid input. Please enter a valid integer.\n"
          ]
        }
      ],
      "source": [
        "try:\n",
        "    num = int(input(\"Enter a number: \"))\n",
        "    result = 100 / num\n",
        "    print(result)\n",
        "except (ZeroDivisionError,ValueError):\n",
        "    print(\"You cannot divide by zero! or Invalid input. Please enter a valid integer.\")\n"
      ]
    },
    {
      "cell_type": "code",
      "execution_count": null,
      "id": "3820c824-d656-4da1-ae22-80c2ce469d4a",
      "metadata": {
        "id": "3820c824-d656-4da1-ae22-80c2ce469d4a"
      },
      "outputs": [],
      "source": []
    }
  ],
  "metadata": {
    "kernelspec": {
      "display_name": "Python 3 (ipykernel)",
      "language": "python",
      "name": "python3"
    },
    "language_info": {
      "codemirror_mode": {
        "name": "ipython",
        "version": 3
      },
      "file_extension": ".py",
      "mimetype": "text/x-python",
      "name": "python",
      "nbconvert_exporter": "python",
      "pygments_lexer": "ipython3",
      "version": "3.11.7"
    },
    "colab": {
      "provenance": []
    }
  },
  "nbformat": 4,
  "nbformat_minor": 5
}