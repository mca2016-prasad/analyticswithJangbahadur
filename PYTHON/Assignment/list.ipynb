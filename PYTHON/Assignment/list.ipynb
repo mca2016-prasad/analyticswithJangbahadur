{
  "cells": [
    {
      "cell_type": "code",
      "execution_count": null,
      "metadata": {
        "id": "OKWrpTdKyWGP"
      },
      "outputs": [],
      "source": [
        "l = [1,2,3,4,5,6,7,8]"
      ]
    },
    {
      "cell_type": "code",
      "execution_count": null,
      "metadata": {
        "id": "JADB7SKwyWGR",
        "outputId": "b2c74b53-4ad6-4a39-9959-b0cd19882bed"
      },
      "outputs": [
        {
          "data": {
            "text/plain": [
              "list"
            ]
          },
          "execution_count": 2,
          "metadata": {},
          "output_type": "execute_result"
        }
      ],
      "source": [
        "type(l)"
      ]
    },
    {
      "cell_type": "code",
      "execution_count": null,
      "metadata": {
        "id": "GcDLPwl2yWGT",
        "outputId": "3e13d7b6-16e1-4ca0-8428-ae2c7c81dd77"
      },
      "outputs": [
        {
          "data": {
            "text/plain": [
              "[1, 2, 3, 4, 5, 6, 7, 8]"
            ]
          },
          "execution_count": 3,
          "metadata": {},
          "output_type": "execute_result"
        }
      ],
      "source": [
        "l"
      ]
    },
    {
      "cell_type": "code",
      "execution_count": null,
      "metadata": {
        "id": "kzd0zLheyWGT"
      },
      "outputs": [],
      "source": [
        "l1 = [\"prachi\",12,12.778,{1,2,3,4},(1,2,3,4),{1:2,3:4},[1,2,3,4,['a','b','c']],True]"
      ]
    },
    {
      "cell_type": "code",
      "execution_count": null,
      "metadata": {
        "id": "1AuUtwx0yWGU",
        "outputId": "63940766-ab11-43ec-c02e-3b72f84b54ba"
      },
      "outputs": [
        {
          "data": {
            "text/plain": [
              "True"
            ]
          },
          "execution_count": 18,
          "metadata": {},
          "output_type": "execute_result"
        }
      ],
      "source": [
        "l1[-1]"
      ]
    },
    {
      "cell_type": "code",
      "execution_count": null,
      "metadata": {
        "id": "uaYoT3l5yWGV",
        "outputId": "d0bfcbc7-7b5b-4289-ba37-fb19857bfe76"
      },
      "outputs": [
        {
          "data": {
            "text/plain": [
              "['prachi', 12, 12.778, {1, 2, 3, 4}, (1, 2, 3, 4), {1: 2, 3: 4}, [1, 2, 3, 4]]"
            ]
          },
          "execution_count": 7,
          "metadata": {},
          "output_type": "execute_result"
        }
      ],
      "source": [
        "l1"
      ]
    },
    {
      "cell_type": "code",
      "execution_count": null,
      "metadata": {
        "id": "4E4oZw0nyWGW",
        "outputId": "42563e67-5c0a-4ed8-c033-9084a68e5baf"
      },
      "outputs": [
        {
          "data": {
            "text/plain": [
              "[1, 2, 3, 4, ['a', 'b', 'c']]"
            ]
          },
          "execution_count": 15,
          "metadata": {},
          "output_type": "execute_result"
        }
      ],
      "source": [
        "l1[-1]"
      ]
    },
    {
      "cell_type": "code",
      "execution_count": null,
      "metadata": {
        "id": "sdnUEvLdyWGW",
        "outputId": "1af2dd0b-f192-4796-9d99-49d32f77b2fa"
      },
      "outputs": [
        {
          "data": {
            "text/plain": [
              "[1, 2, 3, 4]"
            ]
          },
          "execution_count": 10,
          "metadata": {},
          "output_type": "execute_result"
        }
      ],
      "source": [
        "l1[6]"
      ]
    },
    {
      "cell_type": "code",
      "execution_count": null,
      "metadata": {
        "id": "e0Fl5esIyWGX",
        "outputId": "c68ff3f6-c1af-4ff5-a799-3626612c5514"
      },
      "outputs": [
        {
          "data": {
            "text/plain": [
              "2"
            ]
          },
          "execution_count": 11,
          "metadata": {},
          "output_type": "execute_result"
        }
      ],
      "source": [
        "l1[-2][1]"
      ]
    },
    {
      "cell_type": "code",
      "execution_count": null,
      "metadata": {
        "id": "t09D6z50yWGY",
        "outputId": "405e198f-c2e4-4909-992c-295166411701"
      },
      "outputs": [
        {
          "data": {
            "text/plain": [
              "'c'"
            ]
          },
          "execution_count": 13,
          "metadata": {},
          "output_type": "execute_result"
        }
      ],
      "source": [
        "l1[-1][4][-1]"
      ]
    },
    {
      "cell_type": "code",
      "execution_count": null,
      "metadata": {
        "id": "WAkIMraEyWGY"
      },
      "outputs": [],
      "source": [
        "l2 = [\"Prachi\",\"Anand\",\"Suraj\",\"Diksha\"]"
      ]
    },
    {
      "cell_type": "code",
      "execution_count": null,
      "metadata": {
        "id": "PgB5fT7TyWGZ",
        "outputId": "ba08caa0-528c-40db-d267-a701ad19652f"
      },
      "outputs": [
        {
          "data": {
            "text/plain": [
              "['Prachi', 'Anand', 'Suraj', 'Diksha']"
            ]
          },
          "execution_count": 26,
          "metadata": {},
          "output_type": "execute_result"
        }
      ],
      "source": [
        "l2"
      ]
    },
    {
      "cell_type": "code",
      "execution_count": null,
      "metadata": {
        "id": "LF-ce3oVyWGZ"
      },
      "outputs": [],
      "source": [
        "l2.append(\"Diksha\")"
      ]
    },
    {
      "cell_type": "code",
      "execution_count": null,
      "metadata": {
        "id": "q2pDbWf8yWGa",
        "outputId": "f8c6c78b-ed37-4b9a-fc84-26c68836e2cc"
      },
      "outputs": [
        {
          "name": "stdout",
          "output_type": "stream",
          "text": [
            "None\n"
          ]
        }
      ],
      "source": [
        "print(l3)"
      ]
    },
    {
      "cell_type": "code",
      "execution_count": null,
      "metadata": {
        "id": "EHOMVgj6yWGa",
        "outputId": "d1ba21f1-d922-45e1-c698-b02b4dba8975"
      },
      "outputs": [
        {
          "data": {
            "text/plain": [
              "['Prachi', 'Anand', 'Suraj', 'Diksha', 'Diksha', 'Diksha', 'Diksha', 'Diksha']"
            ]
          },
          "execution_count": 35,
          "metadata": {},
          "output_type": "execute_result"
        }
      ],
      "source": [
        "l2"
      ]
    },
    {
      "cell_type": "code",
      "execution_count": null,
      "metadata": {
        "id": "rThsdQy1yWGa"
      },
      "outputs": [],
      "source": [
        "l3 = l2"
      ]
    },
    {
      "cell_type": "code",
      "execution_count": null,
      "metadata": {
        "id": "ORfxIv8ryWGa",
        "outputId": "c1a0a410-eb9b-4697-9a72-8d59614b6024"
      },
      "outputs": [
        {
          "data": {
            "text/plain": [
              "['Prachi', 'Anand', 'Suraj', 'Diksha', 'Diksha', 'Diksha', 'Diksha', 'Diksha']"
            ]
          },
          "execution_count": 37,
          "metadata": {},
          "output_type": "execute_result"
        }
      ],
      "source": [
        "l3"
      ]
    },
    {
      "cell_type": "code",
      "execution_count": null,
      "metadata": {
        "id": "mzUOz5PGyWGb"
      },
      "outputs": [],
      "source": [
        "l4 = [\"a\",\"b\",\"d\",\"f\"]"
      ]
    },
    {
      "cell_type": "code",
      "execution_count": null,
      "metadata": {
        "id": "YVRZ5Z5ZyWGb"
      },
      "outputs": [],
      "source": [
        "l4.insert(2,\"c\")"
      ]
    },
    {
      "cell_type": "code",
      "execution_count": null,
      "metadata": {
        "id": "C2dqT7J4yWGb",
        "outputId": "2d22fda9-f2b5-4abb-f278-ce0e44f3a2a6"
      },
      "outputs": [
        {
          "data": {
            "text/plain": [
              "['a', 'b', 'c', 'd', 'f']"
            ]
          },
          "execution_count": 40,
          "metadata": {},
          "output_type": "execute_result"
        }
      ],
      "source": [
        "l4"
      ]
    },
    {
      "cell_type": "code",
      "execution_count": null,
      "metadata": {
        "id": "B3HZNICGyWGb"
      },
      "outputs": [],
      "source": [
        "l4.insert(4,\"e\")"
      ]
    },
    {
      "cell_type": "code",
      "execution_count": null,
      "metadata": {
        "id": "NFIoo05pyWGc",
        "outputId": "df765c4a-539e-490c-cbb7-e942384c1c98"
      },
      "outputs": [
        {
          "data": {
            "text/plain": [
              "['a', 'b', 'c', 'd', 'e', 'f']"
            ]
          },
          "execution_count": 42,
          "metadata": {},
          "output_type": "execute_result"
        }
      ],
      "source": [
        "l4"
      ]
    },
    {
      "cell_type": "code",
      "execution_count": null,
      "metadata": {
        "id": "vAYe5DiUyWGc"
      },
      "outputs": [],
      "source": [
        "l5 = [1,2,3,7,8,10]"
      ]
    },
    {
      "cell_type": "code",
      "execution_count": null,
      "metadata": {
        "id": "2gq3V1RcyWGc",
        "outputId": "a9af80c0-9735-4c33-af3b-d8aa69e617f7"
      },
      "outputs": [
        {
          "data": {
            "text/plain": [
              "[1, 2, 3, 7, 8, 10]"
            ]
          },
          "execution_count": 44,
          "metadata": {},
          "output_type": "execute_result"
        }
      ],
      "source": [
        "l5"
      ]
    },
    {
      "cell_type": "code",
      "execution_count": null,
      "metadata": {
        "id": "VRNv8SHryWGc"
      },
      "outputs": [],
      "source": [
        "l5.insert(-2,9)"
      ]
    },
    {
      "cell_type": "code",
      "execution_count": null,
      "metadata": {
        "id": "FuhinQfQyWGc",
        "outputId": "327e52af-5ede-49f3-8205-0224cdf35b47"
      },
      "outputs": [
        {
          "data": {
            "text/plain": [
              "[1, 2, 3, 7, 9, 8, 10]"
            ]
          },
          "execution_count": 46,
          "metadata": {},
          "output_type": "execute_result"
        }
      ],
      "source": [
        "l5"
      ]
    },
    {
      "cell_type": "code",
      "execution_count": null,
      "metadata": {
        "id": "UUquRV0qyWGc",
        "outputId": "20adb3f7-0900-475d-c143-a3e7df583a91"
      },
      "outputs": [
        {
          "data": {
            "text/plain": [
              "9"
            ]
          },
          "execution_count": 47,
          "metadata": {},
          "output_type": "execute_result"
        }
      ],
      "source": [
        "l5.pop(-3)"
      ]
    },
    {
      "cell_type": "code",
      "execution_count": null,
      "metadata": {
        "id": "_IK266gyyWGd",
        "outputId": "fdfd363d-62c8-47c5-e387-6c7a0a267ac9"
      },
      "outputs": [
        {
          "data": {
            "text/plain": [
              "[1, 2, 3, 7, 8, 10]"
            ]
          },
          "execution_count": 48,
          "metadata": {},
          "output_type": "execute_result"
        }
      ],
      "source": [
        "l5"
      ]
    },
    {
      "cell_type": "code",
      "execution_count": null,
      "metadata": {
        "id": "nwy6AiRPyWGd"
      },
      "outputs": [],
      "source": [
        "l5.insert(-1,9)"
      ]
    },
    {
      "cell_type": "code",
      "execution_count": null,
      "metadata": {
        "id": "EgNW01gcyWGd",
        "outputId": "b6043533-b972-4a9b-bc81-4b1c2de037d1"
      },
      "outputs": [
        {
          "data": {
            "text/plain": [
              "[1, 2, 3, 7, 8, 9, 10]"
            ]
          },
          "execution_count": 50,
          "metadata": {},
          "output_type": "execute_result"
        }
      ],
      "source": [
        "l5"
      ]
    },
    {
      "cell_type": "code",
      "execution_count": null,
      "metadata": {
        "id": "h2hFIgvnyWGd"
      },
      "outputs": [],
      "source": [
        "l = [[1,2,3,4,\"prachi\",['p','r','a']],1234,{\"abc\",\"def\"},78,91,(12,\"a\",6)]\n",
        "\n",
        "#access the 'r'\n",
        "#insert \"suraj\" at the end of the list\n",
        "#insert \"Vatsala\" at the 3rd index"
      ]
    },
    {
      "cell_type": "code",
      "execution_count": null,
      "metadata": {
        "id": "6Catvl8EyWGe",
        "outputId": "d2f8990c-445e-4188-ea0d-4a03f1a664d8"
      },
      "outputs": [
        {
          "ename": "TypeError",
          "evalue": "'int' object is not subscriptable",
          "output_type": "error",
          "traceback": [
            "\u001b[1;31m---------------------------------------------------------------------------\u001b[0m",
            "\u001b[1;31mTypeError\u001b[0m                                 Traceback (most recent call last)",
            "Cell \u001b[1;32mIn[52], line 1\u001b[0m\n\u001b[1;32m----> 1\u001b[0m l[\u001b[38;5;241m0\u001b[39m][\u001b[38;5;241m0\u001b[39m][\u001b[38;5;241m5\u001b[39m][\u001b[38;5;241m1\u001b[39m]\n",
            "\u001b[1;31mTypeError\u001b[0m: 'int' object is not subscriptable"
          ]
        }
      ],
      "source": [
        "l[0][0][5][1]"
      ]
    },
    {
      "cell_type": "code",
      "execution_count": null,
      "metadata": {
        "id": "NUL3ml_ZyWGf",
        "outputId": "18cc3834-d589-4b90-c5d0-652e238678f8"
      },
      "outputs": [
        {
          "data": {
            "text/plain": [
              "'r'"
            ]
          },
          "execution_count": 53,
          "metadata": {},
          "output_type": "execute_result"
        }
      ],
      "source": [
        "l[0][-1][1]"
      ]
    },
    {
      "cell_type": "code",
      "execution_count": null,
      "metadata": {
        "id": "qUEcDWvRyWGf",
        "outputId": "dfe0a5e0-05a3-48be-ed90-176da6d37920"
      },
      "outputs": [
        {
          "data": {
            "text/plain": [
              "'r'"
            ]
          },
          "execution_count": 54,
          "metadata": {},
          "output_type": "execute_result"
        }
      ],
      "source": [
        "l[0][5][1]"
      ]
    },
    {
      "cell_type": "code",
      "execution_count": null,
      "metadata": {
        "id": "6_PsIP2zyWGf",
        "outputId": "a8286277-c5e8-4e9c-92d8-0577dcb0971b"
      },
      "outputs": [
        {
          "data": {
            "text/plain": [
              "'r'"
            ]
          },
          "execution_count": 55,
          "metadata": {},
          "output_type": "execute_result"
        }
      ],
      "source": [
        "l[0][-1][-2]"
      ]
    },
    {
      "cell_type": "code",
      "execution_count": null,
      "metadata": {
        "id": "ZpUyvw9jyWGf"
      },
      "outputs": [],
      "source": [
        "l = [\"apple\",\"banana\",\"Kiwi\",\"apple\"]"
      ]
    },
    {
      "cell_type": "code",
      "execution_count": null,
      "metadata": {
        "id": "N0TsKiWOyWGg"
      },
      "outputs": [],
      "source": [
        "l.remove(\"apple\")"
      ]
    },
    {
      "cell_type": "code",
      "execution_count": null,
      "metadata": {
        "id": "BspZmpEmyWGg",
        "outputId": "4cb5f031-5e99-4479-c07c-2fdec0111b50"
      },
      "outputs": [
        {
          "data": {
            "text/plain": [
              "['banana', 'Kiwi']"
            ]
          },
          "execution_count": 60,
          "metadata": {},
          "output_type": "execute_result"
        }
      ],
      "source": [
        "l"
      ]
    },
    {
      "cell_type": "code",
      "execution_count": null,
      "metadata": {
        "id": "I0tXxEA6yWGg",
        "outputId": "c31ad3ce-edc2-49b7-b132-30a8da3bf38e"
      },
      "outputs": [
        {
          "data": {
            "text/plain": [
              "['apple', 'banana', 'Kiwi', 'apple']"
            ]
          },
          "execution_count": 62,
          "metadata": {},
          "output_type": "execute_result"
        }
      ],
      "source": [
        "l"
      ]
    },
    {
      "cell_type": "code",
      "execution_count": null,
      "metadata": {
        "id": "tCeOysdxyWGn",
        "outputId": "38dcf57a-e3cc-4e17-bd8d-476cd927d938"
      },
      "outputs": [
        {
          "data": {
            "text/plain": [
              "'apple'"
            ]
          },
          "execution_count": 63,
          "metadata": {},
          "output_type": "execute_result"
        }
      ],
      "source": [
        "l.pop()"
      ]
    },
    {
      "cell_type": "code",
      "execution_count": null,
      "metadata": {
        "id": "GumdcgfAyWGn",
        "outputId": "f3c39741-3fe6-4f63-e104-1eff04dd0f15"
      },
      "outputs": [
        {
          "data": {
            "text/plain": [
              "['apple', 'banana', 'Kiwi']"
            ]
          },
          "execution_count": 64,
          "metadata": {},
          "output_type": "execute_result"
        }
      ],
      "source": [
        "l"
      ]
    },
    {
      "cell_type": "code",
      "execution_count": null,
      "metadata": {
        "id": "TGqXDrvryWGn"
      },
      "outputs": [],
      "source": [
        "l.insert(1,\"cherry\")\n",
        "l.append(\"Pinapple\")"
      ]
    },
    {
      "cell_type": "code",
      "execution_count": null,
      "metadata": {
        "id": "3AEdMPatyWGn",
        "outputId": "712a63ad-e243-401c-81c5-01643934f8a0"
      },
      "outputs": [
        {
          "data": {
            "text/plain": [
              "['apple', 'cherry', 'banana', 'Kiwi', 'Pinapple']"
            ]
          },
          "execution_count": 66,
          "metadata": {},
          "output_type": "execute_result"
        }
      ],
      "source": [
        "l"
      ]
    },
    {
      "cell_type": "code",
      "execution_count": null,
      "metadata": {
        "id": "CkjpidwyyWGn",
        "outputId": "9851ee64-5db5-4141-d8c8-3e6e144082bd"
      },
      "outputs": [
        {
          "data": {
            "text/plain": [
              "'banana'"
            ]
          },
          "execution_count": 67,
          "metadata": {},
          "output_type": "execute_result"
        }
      ],
      "source": [
        "l.pop(2)"
      ]
    },
    {
      "cell_type": "code",
      "execution_count": null,
      "metadata": {
        "id": "Fw-uVenQyWGn",
        "outputId": "b40d6f0e-aba3-4130-c613-1300d7e91664"
      },
      "outputs": [
        {
          "data": {
            "text/plain": [
              "['apple', 'cherry', 'Kiwi', 'Pinapple']"
            ]
          },
          "execution_count": 68,
          "metadata": {},
          "output_type": "execute_result"
        }
      ],
      "source": [
        "l"
      ]
    },
    {
      "cell_type": "code",
      "execution_count": null,
      "metadata": {
        "id": "9ld2tre4yWGn",
        "outputId": "7f372d4e-429b-41eb-90f8-a05db1d93ec9"
      },
      "outputs": [
        {
          "data": {
            "text/plain": [
              "'Kiwi'"
            ]
          },
          "execution_count": 69,
          "metadata": {},
          "output_type": "execute_result"
        }
      ],
      "source": [
        "l.pop(-2)"
      ]
    },
    {
      "cell_type": "code",
      "execution_count": null,
      "metadata": {
        "id": "H9lwSoJLyWGo",
        "outputId": "74750f13-3441-45f6-9a1e-b6465c101e9f"
      },
      "outputs": [
        {
          "data": {
            "text/plain": [
              "['apple', 'cherry', 'Pinapple']"
            ]
          },
          "execution_count": 70,
          "metadata": {},
          "output_type": "execute_result"
        }
      ],
      "source": [
        "l"
      ]
    },
    {
      "cell_type": "code",
      "execution_count": null,
      "metadata": {
        "id": "K8IWIwSkyWGo",
        "outputId": "542b4b7d-348f-4467-f9a3-fd7d583774d5"
      },
      "outputs": [
        {
          "data": {
            "text/plain": [
              "['apple', 'cherry', 'Pinapple']"
            ]
          },
          "execution_count": 71,
          "metadata": {},
          "output_type": "execute_result"
        }
      ],
      "source": [
        "l"
      ]
    },
    {
      "cell_type": "code",
      "execution_count": null,
      "metadata": {
        "id": "8lVaWooTyWGo",
        "outputId": "11bb29e7-b48e-426f-b3e4-dc130c0d3185"
      },
      "outputs": [
        {
          "ename": "ValueError",
          "evalue": "list.remove(x): x not in list",
          "output_type": "error",
          "traceback": [
            "\u001b[1;31m---------------------------------------------------------------------------\u001b[0m",
            "\u001b[1;31mValueError\u001b[0m                                Traceback (most recent call last)",
            "Cell \u001b[1;32mIn[73], line 1\u001b[0m\n\u001b[1;32m----> 1\u001b[0m l\u001b[38;5;241m.\u001b[39mremove(\u001b[38;5;124m\"\u001b[39m\u001b[38;5;124mApple\u001b[39m\u001b[38;5;124m\"\u001b[39m)\n",
            "\u001b[1;31mValueError\u001b[0m: list.remove(x): x not in list"
          ]
        }
      ],
      "source": [
        "l.remove(\"Apple\")"
      ]
    },
    {
      "cell_type": "code",
      "execution_count": null,
      "metadata": {
        "id": "2YZ9kD4cyWGo"
      },
      "outputs": [],
      "source": [
        "del l[2]"
      ]
    },
    {
      "cell_type": "code",
      "execution_count": null,
      "metadata": {
        "id": "fX-PZM_kyWGo",
        "outputId": "54b80d7f-fd2d-4ae7-f5cd-654569a67d04"
      },
      "outputs": [
        {
          "data": {
            "text/plain": [
              "['apple', 'Pinapple']"
            ]
          },
          "execution_count": 75,
          "metadata": {},
          "output_type": "execute_result"
        }
      ],
      "source": [
        "l"
      ]
    },
    {
      "cell_type": "code",
      "execution_count": null,
      "metadata": {
        "id": "ehpUntiNyWGo"
      },
      "outputs": [],
      "source": [
        "del l"
      ]
    },
    {
      "cell_type": "code",
      "execution_count": null,
      "metadata": {
        "id": "woct5dMMyWGo",
        "outputId": "2f9b8680-55c3-4c8e-efe9-64f58e1db04a"
      },
      "outputs": [
        {
          "ename": "NameError",
          "evalue": "name 'l' is not defined",
          "output_type": "error",
          "traceback": [
            "\u001b[1;31m---------------------------------------------------------------------------\u001b[0m",
            "\u001b[1;31mNameError\u001b[0m                                 Traceback (most recent call last)",
            "Cell \u001b[1;32mIn[77], line 1\u001b[0m\n\u001b[1;32m----> 1\u001b[0m l\n",
            "\u001b[1;31mNameError\u001b[0m: name 'l' is not defined"
          ]
        }
      ],
      "source": [
        "l"
      ]
    },
    {
      "cell_type": "code",
      "execution_count": null,
      "metadata": {
        "id": "uupHRZXlyWGp"
      },
      "outputs": [],
      "source": [
        "l = [\"apple\",\"bnanana\",\"cherry\",\"chikoo\",\"Cashew\"]"
      ]
    },
    {
      "cell_type": "code",
      "execution_count": null,
      "metadata": {
        "id": "1EdwiDTcyWGp",
        "outputId": "92e0900b-9372-4cd4-a832-cf18f357ccbb"
      },
      "outputs": [
        {
          "data": {
            "text/plain": [
              "['Cashew', 'chikoo', 'cherry', 'bnanana', 'apple']"
            ]
          },
          "execution_count": 82,
          "metadata": {},
          "output_type": "execute_result"
        }
      ],
      "source": [
        "l[::-1]"
      ]
    },
    {
      "cell_type": "code",
      "execution_count": null,
      "metadata": {
        "id": "E242ONbcyWGp",
        "outputId": "80866690-89c1-446d-8bd9-917f188b587d"
      },
      "outputs": [
        {
          "data": {
            "text/plain": [
              "['cherry', 'chikoo', 'Cashew']"
            ]
          },
          "execution_count": 87,
          "metadata": {},
          "output_type": "execute_result"
        }
      ],
      "source": [
        "l[2:]"
      ]
    },
    {
      "cell_type": "code",
      "execution_count": null,
      "metadata": {
        "id": "jUW-c73vyWGp",
        "outputId": "84ad3384-b7c7-40ab-bd5f-10d256e77d76"
      },
      "outputs": [
        {
          "data": {
            "text/plain": [
              "['apple', 'bnanana', 'cherry']"
            ]
          },
          "execution_count": 88,
          "metadata": {},
          "output_type": "execute_result"
        }
      ],
      "source": [
        "l[:3]"
      ]
    },
    {
      "cell_type": "code",
      "execution_count": null,
      "metadata": {
        "id": "VFLn_KLYyWGp",
        "outputId": "812609d3-fad5-4052-9881-a0a9dea18f55"
      },
      "outputs": [
        {
          "data": {
            "text/plain": [
              "['apple', 'chikoo']"
            ]
          },
          "execution_count": 92,
          "metadata": {},
          "output_type": "execute_result"
        }
      ],
      "source": [
        "l[::3]"
      ]
    },
    {
      "cell_type": "code",
      "execution_count": null,
      "metadata": {
        "id": "2fFrGaYmyWGq",
        "outputId": "b0741de7-3d5f-4b0b-c5eb-0d0c35008a05"
      },
      "outputs": [
        {
          "data": {
            "text/plain": [
              "['Cashew', 'chikoo', 'cherry', 'bnanana', 'apple']"
            ]
          },
          "execution_count": 93,
          "metadata": {},
          "output_type": "execute_result"
        }
      ],
      "source": [
        "l[::-1]"
      ]
    },
    {
      "cell_type": "code",
      "execution_count": null,
      "metadata": {
        "id": "0zzfeju2yWGq"
      },
      "outputs": [],
      "source": [
        "l = [12,1,2,1,67,89,100,23]"
      ]
    },
    {
      "cell_type": "code",
      "execution_count": null,
      "metadata": {
        "id": "ox2Y7W-myWGq"
      },
      "outputs": [],
      "source": [
        "l.sort()"
      ]
    },
    {
      "cell_type": "code",
      "execution_count": null,
      "metadata": {
        "id": "kJYsYPkyyWGq",
        "outputId": "c4bd46fd-40fe-48d4-de8e-301976edc761"
      },
      "outputs": [
        {
          "data": {
            "text/plain": [
              "[1, 1, 2, 12, 23, 67, 89, 100]"
            ]
          },
          "execution_count": 96,
          "metadata": {},
          "output_type": "execute_result"
        }
      ],
      "source": [
        "l"
      ]
    },
    {
      "cell_type": "code",
      "execution_count": null,
      "metadata": {
        "id": "uiEfMiKUyWGq"
      },
      "outputs": [],
      "source": [
        "l.sort(reverse=True)"
      ]
    },
    {
      "cell_type": "code",
      "execution_count": null,
      "metadata": {
        "id": "TLpkBFz4yWGq",
        "outputId": "e098f1ee-89a2-4e75-cc42-31baf6bc3da9"
      },
      "outputs": [
        {
          "data": {
            "text/plain": [
              "[100, 89, 67, 23, 12, 2, 1, 1]"
            ]
          },
          "execution_count": 98,
          "metadata": {},
          "output_type": "execute_result"
        }
      ],
      "source": [
        "l"
      ]
    },
    {
      "cell_type": "code",
      "execution_count": null,
      "metadata": {
        "id": "6k_FfMrkyWGq"
      },
      "outputs": [],
      "source": [
        "l = [\"abc\",\"prachi\",\"def\"]"
      ]
    },
    {
      "cell_type": "code",
      "execution_count": null,
      "metadata": {
        "id": "2TZUHc8eyWGq"
      },
      "outputs": [],
      "source": [
        "l.sort(reverse = True)"
      ]
    },
    {
      "cell_type": "code",
      "execution_count": null,
      "metadata": {
        "id": "FSOq_JPGyWGr",
        "outputId": "3ed819ef-686a-4d51-d0b1-6f4a833f2021"
      },
      "outputs": [
        {
          "data": {
            "text/plain": [
              "['prachi', 'def', 'abc']"
            ]
          },
          "execution_count": 103,
          "metadata": {},
          "output_type": "execute_result"
        }
      ],
      "source": [
        "l"
      ]
    },
    {
      "cell_type": "code",
      "execution_count": null,
      "metadata": {
        "id": "lGsq-vZeyWGr"
      },
      "outputs": [],
      "source": []
    }
  ],
  "metadata": {
    "kernelspec": {
      "display_name": "base",
      "language": "python",
      "name": "python3"
    },
    "language_info": {
      "codemirror_mode": {
        "name": "ipython",
        "version": 3
      },
      "file_extension": ".py",
      "mimetype": "text/x-python",
      "name": "python",
      "nbconvert_exporter": "python",
      "pygments_lexer": "ipython3",
      "version": "3.11.7"
    },
    "colab": {
      "provenance": []
    }
  },
  "nbformat": 4,
  "nbformat_minor": 0
}