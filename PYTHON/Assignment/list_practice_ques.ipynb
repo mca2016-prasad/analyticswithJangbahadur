{
  "cells": [
    {
      "cell_type": "code",
      "execution_count": null,
      "id": "8144f867-548c-423f-b951-4414d3711e2b",
      "metadata": {
        "id": "8144f867-548c-423f-b951-4414d3711e2b",
        "outputId": "aecd20e7-40ea-44b4-ee1b-87b2adffaff7"
      },
      "outputs": [
        {
          "name": "stdout",
          "output_type": "stream",
          "text": [
            "prachi\n"
          ]
        }
      ],
      "source": [
        "print(\"prachi\")"
      ]
    },
    {
      "cell_type": "code",
      "execution_count": null,
      "id": "ceef5103-162e-4101-bb7c-5cf5210c7e6d",
      "metadata": {
        "id": "ceef5103-162e-4101-bb7c-5cf5210c7e6d"
      },
      "outputs": [],
      "source": [
        "\n",
        "#append()\n",
        "l = [1,2,3,4,5]"
      ]
    },
    {
      "cell_type": "code",
      "execution_count": null,
      "id": "f74fa199-ed59-4cd1-8936-d711c45978e8",
      "metadata": {
        "id": "f74fa199-ed59-4cd1-8936-d711c45978e8"
      },
      "outputs": [],
      "source": [
        "l1 = l.append(7)"
      ]
    },
    {
      "cell_type": "code",
      "execution_count": null,
      "id": "24d99bee-a567-40f2-b0ea-c22775484833",
      "metadata": {
        "id": "24d99bee-a567-40f2-b0ea-c22775484833",
        "outputId": "bfd14391-dfc8-4f0b-e456-ce1a878c14d3"
      },
      "outputs": [
        {
          "name": "stdout",
          "output_type": "stream",
          "text": [
            "None\n"
          ]
        }
      ],
      "source": [
        "print(l1)"
      ]
    },
    {
      "cell_type": "code",
      "execution_count": null,
      "id": "fc09151f-d33d-4db1-9a57-6951e78be32e",
      "metadata": {
        "id": "fc09151f-d33d-4db1-9a57-6951e78be32e",
        "outputId": "d26330e5-1865-48bc-b31b-2258e34ed03d"
      },
      "outputs": [
        {
          "data": {
            "text/plain": [
              "[1, 2, 3, 4, 5, 7]"
            ]
          },
          "execution_count": 6,
          "metadata": {},
          "output_type": "execute_result"
        }
      ],
      "source": [
        "l"
      ]
    },
    {
      "cell_type": "raw",
      "id": "f88fda6e-273b-4bbe-b28f-11b2be64f264",
      "metadata": {
        "id": "f88fda6e-273b-4bbe-b28f-11b2be64f264"
      },
      "source": [
        "l will be modified to [1, 2, 3, 4, 5, 7].\n",
        "l1 will be None."
      ]
    },
    {
      "cell_type": "raw",
      "id": "b2750968-a939-4932-947d-a4e21336cc71",
      "metadata": {
        "id": "b2750968-a939-4932-947d-a4e21336cc71"
      },
      "source": [
        "The append() method directly changes the list l and does not return the updated list, hence l1 is set to None"
      ]
    },
    {
      "cell_type": "code",
      "execution_count": null,
      "id": "1179ed4d-f620-4466-8855-2c6172d7c83e",
      "metadata": {
        "id": "1179ed4d-f620-4466-8855-2c6172d7c83e",
        "outputId": "5bc3db3a-def1-4eda-a3a6-684ce4963e74"
      },
      "outputs": [
        {
          "name": "stdout",
          "output_type": "stream",
          "text": [
            "['apple', 'grape', 'banana', 'cherry', 'orange']\n"
          ]
        }
      ],
      "source": [
        "\n",
        "#insert()\n",
        "fruits = [\"apple\", \"banana\", \"cherry\"]\n",
        "fruits.append(\"orange\")\n",
        "fruits.insert(1, \"grape\")\n",
        "print(fruits)  # Output: [\"apple\", \"grape\", \"blueberry\", \"cherry\", \"orange\"]\n"
      ]
    },
    {
      "cell_type": "code",
      "execution_count": null,
      "id": "f84f499a-b0cf-4609-b644-f98f2990ca95",
      "metadata": {
        "id": "f84f499a-b0cf-4609-b644-f98f2990ca95",
        "outputId": "01551fa7-8fba-4607-fab0-f97f2df1d2f8"
      },
      "outputs": [
        {
          "name": "stdout",
          "output_type": "stream",
          "text": [
            "['apple', 'banana', 'cherry', 'orange']\n"
          ]
        }
      ],
      "source": [
        "fruits.remove(\"grape\")\n",
        "print(fruits)  # Output: [\"apple\", \"blueberry\", \"cherry\", \"orange\"]\n"
      ]
    },
    {
      "cell_type": "code",
      "execution_count": null,
      "id": "51984799-edee-4fb0-accf-1289642b39b0",
      "metadata": {
        "id": "51984799-edee-4fb0-accf-1289642b39b0",
        "outputId": "ded95f7f-503b-4fbb-c557-2903b0052702"
      },
      "outputs": [
        {
          "name": "stdout",
          "output_type": "stream",
          "text": [
            "['apple', 'banana', 'orange']\n"
          ]
        }
      ],
      "source": [
        "#pop()\n",
        "\n",
        "fruits.pop(2)\n",
        "print(fruits)  # Output: [\"apple\", \"blueberry\", \"orange\"]\n"
      ]
    },
    {
      "cell_type": "code",
      "execution_count": null,
      "id": "3962cf3f-9da0-4312-8610-4481d8ef999e",
      "metadata": {
        "id": "3962cf3f-9da0-4312-8610-4481d8ef999e",
        "outputId": "2d44b4e6-a33c-4887-d474-835f196cd57b"
      },
      "outputs": [
        {
          "name": "stdout",
          "output_type": "stream",
          "text": [
            "['apple', 'cherry']\n",
            "banana\n"
          ]
        }
      ],
      "source": [
        "fruits = [\"apple\", \"banana\", \"cherry\"]\n",
        "popped_item = fruits.pop(1)\n",
        "print(fruits)  # Output: [\"apple\", \"cherry\"]\n",
        "print(popped_item)  # Output: banana"
      ]
    },
    {
      "cell_type": "code",
      "execution_count": null,
      "id": "4f6908e3-90fa-42d4-8579-33932ed9b888",
      "metadata": {
        "id": "4f6908e3-90fa-42d4-8579-33932ed9b888",
        "outputId": "f7b9873a-6a03-472d-daef-0137f8cac9a9"
      },
      "outputs": [
        {
          "name": "stdout",
          "output_type": "stream",
          "text": [
            "['apple', 'cherry', 'banana']\n"
          ]
        }
      ],
      "source": [
        "#remove()\n",
        "fruits = [\"apple\", \"banana\", \"cherry\", \"banana\"]\n",
        "fruits.remove(\"banana\")\n",
        "print(fruits)  # Output: [\"apple\", \"cherry\", \"banana\"]\n"
      ]
    },
    {
      "cell_type": "code",
      "execution_count": null,
      "id": "fe967615-3050-45ea-a413-92f1bd5f62fd",
      "metadata": {
        "id": "fe967615-3050-45ea-a413-92f1bd5f62fd",
        "outputId": "844d66b6-ca5b-43b4-9836-d9eba545a228"
      },
      "outputs": [
        {
          "ename": "SyntaxError",
          "evalue": "unmatched ')' (2838795933.py, line 4)",
          "output_type": "error",
          "traceback": [
            "\u001b[1;36m  Cell \u001b[1;32mIn[16], line 4\u001b[1;36m\u001b[0m\n\u001b[1;33m    1)Create a list named my_list that contains the following elements: 10, 20, 30, 40, 50.\u001b[0m\n\u001b[1;37m     ^\u001b[0m\n\u001b[1;31mSyntaxError\u001b[0m\u001b[1;31m:\u001b[0m unmatched ')'\n"
          ]
        }
      ],
      "source": [
        "Practice questions\n",
        "\n",
        "\n",
        "1)Create a list named my_list that contains the following elements: 10, 20, 30, 40, 50.\n",
        "2)Write a Python code to access the first and last elements of my_list.\n",
        "3)Change the second element of my_list to 25.\n",
        "4)Append the value 60 to my_list.\n",
        "5)Insert the value 15 at the second position in my_list.\n",
        "6)Remove the first occurrence of 30 from my_list using the remove() method.\n",
        "7)Use the pop() method to remove and return the last element from my_list.\n",
        "8)Sort my_list in ascending order.\n",
        "9)Reverse the order of elements in my_list.\n",
        "10)Count how many times the value 20 appears in my_list.\n",
        "11)Slice my_list to create a new list containing the first three elements.\n",
        "12)Find the index of the value 40 in my_list.\n",
        "13)Clear all elements from my_list using the clear() method.\n",
        "14)Create a nested list called nested_list with two sublists: [1, 2, 3] and [4, 5, 6].\n",
        "15)Access the element 5 from nested_list."
      ]
    },
    {
      "cell_type": "code",
      "execution_count": null,
      "id": "872f28b1-46a9-4bfd-aad7-c21d2b631af6",
      "metadata": {
        "id": "872f28b1-46a9-4bfd-aad7-c21d2b631af6"
      },
      "outputs": [],
      "source": [
        "l = [[1,2,3,4,\"prachi\",['p','r','a']],1234,{\"abc\",\"def\"},78,91,(12,\"a\",6)]"
      ]
    },
    {
      "cell_type": "code",
      "execution_count": null,
      "id": "746b0d67-b033-4f53-8aea-891a4f29c19e",
      "metadata": {
        "id": "746b0d67-b033-4f53-8aea-891a4f29c19e"
      },
      "outputs": [],
      "source": []
    },
    {
      "cell_type": "code",
      "execution_count": null,
      "id": "74244ed9-a06f-4f23-920a-74e1def59cd4",
      "metadata": {
        "id": "74244ed9-a06f-4f23-920a-74e1def59cd4",
        "outputId": "58373ef1-f6f6-4c30-d983-9081f3170e71"
      },
      "outputs": [
        {
          "data": {
            "text/plain": [
              "'r'"
            ]
          },
          "execution_count": 2,
          "metadata": {},
          "output_type": "execute_result"
        }
      ],
      "source": [
        "l[0][-1][-2]"
      ]
    },
    {
      "cell_type": "code",
      "execution_count": null,
      "id": "7425410d-deff-427b-9f9a-8b8d4d6a6ca3",
      "metadata": {
        "id": "7425410d-deff-427b-9f9a-8b8d4d6a6ca3"
      },
      "outputs": [],
      "source": [
        "l[0["
      ]
    }
  ],
  "metadata": {
    "kernelspec": {
      "display_name": "Python 3 (ipykernel)",
      "language": "python",
      "name": "python3"
    },
    "language_info": {
      "codemirror_mode": {
        "name": "ipython",
        "version": 3
      },
      "file_extension": ".py",
      "mimetype": "text/x-python",
      "name": "python",
      "nbconvert_exporter": "python",
      "pygments_lexer": "ipython3",
      "version": "3.11.7"
    },
    "colab": {
      "provenance": []
    }
  },
  "nbformat": 4,
  "nbformat_minor": 5
}
