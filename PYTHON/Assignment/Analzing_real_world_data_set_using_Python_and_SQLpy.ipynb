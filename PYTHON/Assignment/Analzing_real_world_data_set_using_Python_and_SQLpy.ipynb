{
  "cells": [
    {
      "cell_type": "markdown",
      "metadata": {
        "id": "FXdUkrrnESh2"
      },
      "source": [
        "\n",
        "\n",
        "<h1 align=center><font size = 5>Lab: Analyzing a real world data-set with SQL and Python</font></h1>"
      ]
    },
    {
      "cell_type": "markdown",
      "metadata": {
        "id": "YdocuPzmESh3"
      },
      "source": [
        "# Introduction\n",
        "\n",
        "This notebook shows how to store a dataset into a database using and analyze data using SQL and Python. In this lab you will:\n",
        "1. Understand a dataset of selected socioeconomic indicators in Chicago\n",
        "1. Learn how to store data in an Db2 database on IBM Cloud instance\n",
        "1. Solve example problems to practice your SQL skills"
      ]
    },
    {
      "cell_type": "markdown",
      "metadata": {
        "id": "dsM9aAIcESh4"
      },
      "source": [
        "## Selected Socioeconomic Indicators in Chicago\n",
        "\n",
        "The city of Chicago released a dataset of socioeconomic data to the Chicago City Portal.\n",
        "This dataset contains a selection of six socioeconomic indicators of public health significance and a “hardship index,” for each Chicago community area, for the years 2008 – 2012.\n",
        "\n",
        "Scores on the hardship index can range from 1 to 100, with a higher index number representing a greater level of hardship.\n",
        "\n",
        "A detailed description of the dataset can be found on [the city of Chicago's website](\n",
        "https://data.cityofchicago.org/Health-Human-Services/Census-Data-Selected-socioeconomic-indicators-in-C/kn9c-c2s2), but to summarize, the dataset has the following variables:\n",
        "\n",
        "* **Community Area Number** (`ca`): Used to uniquely identify each row of the dataset\n",
        "\n",
        "* **Community Area Name** (`community_area_name`): The name of the region in the city of Chicago\n",
        "\n",
        "* **Percent of Housing Crowded** (`percent_of_housing_crowded`): Percent of occupied housing units with more than one person per room\n",
        "\n",
        "* **Percent Households Below Poverty** (`percent_households_below_poverty`): Percent of households living below the federal poverty line\n",
        "\n",
        "* **Percent Aged 16+ Unemployed** (`percent_aged_16_unemployed`): Percent of persons over the age of 16 years that are unemployed\n",
        "\n",
        "* **Percent Aged 25+ without High School Diploma** (`percent_aged_25_without_high_school_diploma`): Percent of persons over the age of 25 years without a high school education\n",
        "\n",
        "* **Percent Aged Under** 18 or Over 64:Percent of population under 18 or over 64 years of age (`percent_aged_under_18_or_over_64`): (ie. dependents)\n",
        "\n",
        "* **Per Capita Income** (`per_capita_income_`): Community Area per capita income is estimated as the sum of tract-level aggragate incomes divided by the total population\n",
        "\n",
        "* **Hardship Index** (`hardship_index`): Score that incorporates each of the six selected socioeconomic indicators\n",
        "\n",
        "In this Lab, we'll take a look at the variables in the socioeconomic indicators dataset and do some basic analysis with Python.\n"
      ]
    },
    {
      "cell_type": "markdown",
      "metadata": {
        "id": "4WtNWtp6ESh4"
      },
      "source": [
        "### Connect to the database\n",
        "Let us first load the SQL extension and establish a connection with the database"
      ]
    },
    {
      "cell_type": "code",
      "execution_count": null,
      "metadata": {
        "id": "H0BslRr9ESh5",
        "outputId": "6160ca8a-dce4-40f8-ce5c-98999c9b7d90"
      },
      "outputs": [
        {
          "name": "stdout",
          "output_type": "stream",
          "text": [
            "The sql extension is already loaded. To reload it, use:\n",
            "  %reload_ext sql\n"
          ]
        },
        {
          "data": {
            "text/plain": [
              "'Connected: @None'"
            ]
          },
          "execution_count": 3,
          "metadata": {},
          "output_type": "execute_result"
        }
      ],
      "source": [
        "import sqlalchemy\n",
        "%load_ext sql\n",
        "%sql sqlite://"
      ]
    },
    {
      "cell_type": "raw",
      "metadata": {
        "id": "RwgT9xGCESh5"
      },
      "source": [
        "# Remember the connection string is of the format:\n",
        "# %sql ibm_db_sa://my-username:my-password@my-hostname:my-port/my-db-name\n",
        "# Enter the connection string for your Db2 on Cloud database instance below\n",
        "# i.e. copy after db2:// from the URI string in Service Credentials of your Db2 instance. Remove the double quotes at the end.\n",
        "%sql ibm_db_sa://my-ngl06911:my-t9+gx60xzq31b0mt@dashdb-txn-sbox-yp-dal09-03.services.dal.bluemix.net:50000/BLUDB"
      ]
    },
    {
      "cell_type": "markdown",
      "metadata": {
        "id": "oeelzmA1ESh5"
      },
      "source": [
        "### Store the dataset in a Table\n",
        "##### In many cases the dataset to be analyzed is available as a .CSV (comma separated values) file, perhaps on the internet. To analyze the data using SQL, it first needs to be stored in the database.\n",
        "\n",
        "##### We will first read the dataset source .CSV from the internet into pandas dataframe\n",
        "\n",
        "##### Then we need to create a table in our Db2 database to store the dataset. The PERSIST command in SQL \"magic\" simplifies the process of table creation and writing the data from a `pandas` dataframe into the table"
      ]
    },
    {
      "cell_type": "code",
      "execution_count": null,
      "metadata": {
        "id": "ZHOsulvVESh6",
        "outputId": "919a6f68-4e6f-4154-fe8a-f5086665de69"
      },
      "outputs": [
        {
          "name": "stdout",
          "output_type": "stream",
          "text": [
            " * sqlite://\n"
          ]
        },
        {
          "data": {
            "text/plain": [
              "'Persisted chicago_socioeconomic_data'"
            ]
          },
          "execution_count": 4,
          "metadata": {},
          "output_type": "execute_result"
        }
      ],
      "source": [
        "import pandas\n",
        "chicago_socioeconomic_data = pandas.read_csv('https://data.cityofchicago.org/resource/jcxq-k9xf.csv')\n",
        "%sql PERSIST chicago_socioeconomic_data"
      ]
    },
    {
      "cell_type": "markdown",
      "metadata": {
        "id": "dBS1sEYmESh6"
      },
      "source": [
        "##### You can verify that the table creation was successful by making a basic query like:"
      ]
    },
    {
      "cell_type": "code",
      "execution_count": null,
      "metadata": {
        "id": "XgZG6z00ESh6",
        "outputId": "e55c4ab2-8f14-4afe-c8dc-c6d18f9e77b4"
      },
      "outputs": [
        {
          "name": "stdout",
          "output_type": "stream",
          "text": [
            " * sqlite://\n",
            "Done.\n"
          ]
        },
        {
          "data": {
            "text/html": [
              "<table>\n",
              "    <tr>\n",
              "        <th>index</th>\n",
              "        <th>ca</th>\n",
              "        <th>community_area_name</th>\n",
              "        <th>percent_of_housing_crowded</th>\n",
              "        <th>percent_households_below_poverty</th>\n",
              "        <th>percent_aged_16_unemployed</th>\n",
              "        <th>percent_aged_25_without_high_school_diploma</th>\n",
              "        <th>percent_aged_under_18_or_over_64</th>\n",
              "        <th>per_capita_income_</th>\n",
              "        <th>hardship_index</th>\n",
              "    </tr>\n",
              "    <tr>\n",
              "        <td>0</td>\n",
              "        <td>1.0</td>\n",
              "        <td>Rogers Park</td>\n",
              "        <td>7.7</td>\n",
              "        <td>23.6</td>\n",
              "        <td>8.7</td>\n",
              "        <td>18.2</td>\n",
              "        <td>27.5</td>\n",
              "        <td>23939</td>\n",
              "        <td>39.0</td>\n",
              "    </tr>\n",
              "    <tr>\n",
              "        <td>1</td>\n",
              "        <td>2.0</td>\n",
              "        <td>West Ridge</td>\n",
              "        <td>7.8</td>\n",
              "        <td>17.2</td>\n",
              "        <td>8.8</td>\n",
              "        <td>20.8</td>\n",
              "        <td>38.5</td>\n",
              "        <td>23040</td>\n",
              "        <td>46.0</td>\n",
              "    </tr>\n",
              "    <tr>\n",
              "        <td>2</td>\n",
              "        <td>3.0</td>\n",
              "        <td>Uptown</td>\n",
              "        <td>3.8</td>\n",
              "        <td>24.0</td>\n",
              "        <td>8.9</td>\n",
              "        <td>11.8</td>\n",
              "        <td>22.2</td>\n",
              "        <td>35787</td>\n",
              "        <td>20.0</td>\n",
              "    </tr>\n",
              "    <tr>\n",
              "        <td>3</td>\n",
              "        <td>4.0</td>\n",
              "        <td>Lincoln Square</td>\n",
              "        <td>3.4</td>\n",
              "        <td>10.9</td>\n",
              "        <td>8.2</td>\n",
              "        <td>13.4</td>\n",
              "        <td>25.5</td>\n",
              "        <td>37524</td>\n",
              "        <td>17.0</td>\n",
              "    </tr>\n",
              "    <tr>\n",
              "        <td>4</td>\n",
              "        <td>5.0</td>\n",
              "        <td>North Center</td>\n",
              "        <td>0.3</td>\n",
              "        <td>7.5</td>\n",
              "        <td>5.2</td>\n",
              "        <td>4.5</td>\n",
              "        <td>26.2</td>\n",
              "        <td>57123</td>\n",
              "        <td>6.0</td>\n",
              "    </tr>\n",
              "</table>"
            ],
            "text/plain": [
              "[(0, 1.0, 'Rogers Park', 7.7, 23.6, 8.7, 18.2, 27.5, 23939, 39.0),\n",
              " (1, 2.0, 'West Ridge', 7.8, 17.2, 8.8, 20.8, 38.5, 23040, 46.0),\n",
              " (2, 3.0, 'Uptown', 3.8, 24.0, 8.9, 11.8, 22.2, 35787, 20.0),\n",
              " (3, 4.0, 'Lincoln Square', 3.4, 10.9, 8.2, 13.4, 25.5, 37524, 17.0),\n",
              " (4, 5.0, 'North Center', 0.3, 7.5, 5.2, 4.5, 26.2, 57123, 6.0)]"
            ]
          },
          "execution_count": 5,
          "metadata": {},
          "output_type": "execute_result"
        }
      ],
      "source": [
        "%sql SELECT * FROM chicago_socioeconomic_data limit 5;"
      ]
    },
    {
      "cell_type": "markdown",
      "metadata": {
        "id": "w9ssCyqOESh6"
      },
      "source": [
        "## Problems\n",
        "\n",
        "### Problem 1\n",
        "\n",
        "##### How many rows are in the dataset?"
      ]
    },
    {
      "cell_type": "code",
      "execution_count": null,
      "metadata": {
        "id": "JmrjonAAESh6",
        "outputId": "ee21a5b5-35ba-438d-af5d-8ea0681e18e5"
      },
      "outputs": [
        {
          "name": "stdout",
          "output_type": "stream",
          "text": [
            " * sqlite://\n",
            "Done.\n"
          ]
        },
        {
          "data": {
            "text/html": [
              "<table>\n",
              "    <tr>\n",
              "        <th>COUNT(*)</th>\n",
              "    </tr>\n",
              "    <tr>\n",
              "        <td>78</td>\n",
              "    </tr>\n",
              "</table>"
            ],
            "text/plain": [
              "[(78,)]"
            ]
          },
          "execution_count": 6,
          "metadata": {},
          "output_type": "execute_result"
        }
      ],
      "source": [
        "\n",
        "%sql SELECT COUNT(*) FROM chicago_socioeconomic_data;"
      ]
    },
    {
      "cell_type": "markdown",
      "metadata": {
        "id": "kG-eOT4dESh6"
      },
      "source": [
        "### Problem 2\n",
        "\n",
        "##### How many community areas in Chicago have a hardship index greater than 50.0?"
      ]
    },
    {
      "cell_type": "code",
      "execution_count": null,
      "metadata": {
        "id": "8mIHtSccESh6",
        "outputId": "a2772c4c-b7c2-4ada-cee6-d25ae87e091e"
      },
      "outputs": [
        {
          "name": "stdout",
          "output_type": "stream",
          "text": [
            " * sqlite://\n",
            "Done.\n"
          ]
        },
        {
          "data": {
            "text/html": [
              "<table>\n",
              "    <tr>\n",
              "        <th>COUNT(*)</th>\n",
              "    </tr>\n",
              "    <tr>\n",
              "        <td>38</td>\n",
              "    </tr>\n",
              "</table>"
            ],
            "text/plain": [
              "[(38,)]"
            ]
          },
          "execution_count": 7,
          "metadata": {},
          "output_type": "execute_result"
        }
      ],
      "source": [
        "%sql SELECT COUNT(*) FROM chicago_socioeconomic_data WHERE hardship_index > 50.0;"
      ]
    },
    {
      "cell_type": "markdown",
      "metadata": {
        "id": "CKU1o6Z0ESh6"
      },
      "source": [
        "### Problem 3\n",
        "\n",
        "##### What is the maximum value of hardship index in this dataset?"
      ]
    },
    {
      "cell_type": "code",
      "execution_count": null,
      "metadata": {
        "id": "PdStjCFdESh7",
        "outputId": "401f7548-439f-4e49-f73b-0e07c38c2f6c"
      },
      "outputs": [
        {
          "name": "stdout",
          "output_type": "stream",
          "text": [
            " * sqlite://\n",
            "Done.\n"
          ]
        },
        {
          "data": {
            "text/html": [
              "<table>\n",
              "    <tr>\n",
              "        <th>MAX(hardship_index)</th>\n",
              "    </tr>\n",
              "    <tr>\n",
              "        <td>98.0</td>\n",
              "    </tr>\n",
              "</table>"
            ],
            "text/plain": [
              "[(98.0,)]"
            ]
          },
          "execution_count": 8,
          "metadata": {},
          "output_type": "execute_result"
        }
      ],
      "source": [
        "%sql SELECT MAX(hardship_index) FROM chicago_socioeconomic_data;"
      ]
    },
    {
      "cell_type": "markdown",
      "metadata": {
        "id": "sY4ugFFoESh7"
      },
      "source": [
        "### Problem 4\n",
        "\n",
        "##### Which community area which has the highest hardship index?\n"
      ]
    },
    {
      "cell_type": "code",
      "execution_count": null,
      "metadata": {
        "collapsed": true,
        "id": "Hn80_5H8ESh7"
      },
      "outputs": [],
      "source": []
    },
    {
      "cell_type": "markdown",
      "metadata": {
        "id": "sBLAHZt1ESh7"
      },
      "source": [
        "Double-click __here__ for the solution.\n",
        "\n",
        "<!-- Hint:\n",
        "\n",
        "## We can use the result of the last query to as an input to this query:\n",
        "%sql SELECT community_area_name FROM chicago_socioeconomic_data where hardship_index=98.0\n",
        "\n",
        "## or another option:\n",
        "%sql SELECT community_area_name FROM chicago_socioeconomic_data ORDER BY hardship_index DESC NULLS LAST FETCH FIRST ROW ONLY;\n",
        "\n",
        "## or you can use a sub-query to determine the max hardship index:\n",
        "%sql select community_area_name from chicago_socioeconomic_data where hardship_index = ( select max(hardship_index) from chicago_socioeconomic_data )\n",
        "\n",
        "Correct answer: 'Riverdale'\n",
        "-->"
      ]
    },
    {
      "cell_type": "markdown",
      "metadata": {
        "id": "40JgiTxWESh7"
      },
      "source": [
        "### Problem 5\n",
        "\n",
        "##### Which Chicago community areas have per-capita incomes greater than $60,000?"
      ]
    },
    {
      "cell_type": "code",
      "execution_count": null,
      "metadata": {
        "collapsed": true,
        "id": "9A3oDNfuESh7"
      },
      "outputs": [],
      "source": []
    },
    {
      "cell_type": "markdown",
      "metadata": {
        "id": "UMioxxA4ESh7"
      },
      "source": [
        "Double-click __here__ for the solution.\n",
        "\n",
        "<!-- Hint:\n",
        "\n",
        "%sql SELECT community_area_name FROM chicago_socioeconomic_data WHERE per_capita_income_ > 60000;\n",
        "\n",
        "Correct answer:Lake View,Lincoln Park, Near North Side, Loop\n",
        "-->\n"
      ]
    },
    {
      "cell_type": "markdown",
      "metadata": {
        "id": "79QHzav4ESh7"
      },
      "source": [
        "### Problem 6\n",
        "\n",
        "##### Create a scatter plot using the variables `per_capita_income_` and `hardship_index`. Explain the correlation between the two variables."
      ]
    },
    {
      "cell_type": "code",
      "execution_count": null,
      "metadata": {
        "id": "FKHNUkqaESh7",
        "outputId": "74b30c47-768a-4a2a-b797-c2607deb60c4"
      },
      "outputs": [
        {
          "name": "stdout",
          "output_type": "stream",
          "text": [
            " * sqlite://\n",
            "Done.\n"
          ]
        },
        {
          "data": {
            "image/png": "[encoded data removed]",
            "text/plain": [
              "<Figure size 432x432 with 3 Axes>"
            ]
          },
          "metadata": {
            "needs_background": "light"
          },
          "output_type": "display_data"
        }
      ],
      "source": [
        "import matplotlib.pyplot as plt\n",
        "%matplotlib inline\n",
        "import seaborn as sns\n",
        "\n",
        "income_vs_hardship = %sql SELECT per_capita_income_, hardship_index FROM chicago_socioeconomic_data;\n",
        "plot = sns.jointplot(x='per_capita_income_',y='hardship_index', data=income_vs_hardship.DataFrame())\n",
        "\n"
      ]
    },
    {
      "cell_type": "markdown",
      "metadata": {
        "id": "ecGRkgsaESh7"
      },
      "source": [
        "## Insights\n",
        "You can see that as Per Capita Income rises as the Hardship Index decreases. We see that the points on the scatter plot are somewhat closer to a straight line in the negative direction, so we have a negative correlation between the two variables.\n",
        "-->\n"
      ]
    },
    {
      "cell_type": "markdown",
      "metadata": {
        "id": "UbadlF6KESh7"
      },
      "source": [
        "### Conclusion\n",
        "\n",
        "##### Now that you know how to do basic exploratory data analysis using SQL and python visualization tools."
      ]
    }
  ],
  "metadata": {
    "kernelspec": {
      "display_name": "Python 3",
      "language": "python",
      "name": "python3"
    },
    "language_info": {
      "codemirror_mode": {
        "name": "ipython",
        "version": 3
      },
      "file_extension": ".py",
      "mimetype": "text/x-python",
      "name": "python",
      "nbconvert_exporter": "python",
      "pygments_lexer": "ipython3",
      "version": "3.7.4"
    },
    "colab": {
      "provenance": []
    }
  },
  "nbformat": 4,
  "nbformat_minor": 0
}