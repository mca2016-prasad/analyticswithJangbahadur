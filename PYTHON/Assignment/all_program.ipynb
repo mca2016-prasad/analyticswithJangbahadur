{
 "cells": [
  {
   "cell_type": "code",
   "execution_count": 1,
   "id": "45d585d8-404f-4fca-9525-b50b79814f2c",
   "metadata": {},
   "outputs": [
    {
     "name": "stdout",
     "output_type": "stream",
     "text": [
      "hello\n"
     ]
    }
   ],
   "source": [
    "print(\"hello\")"
   ]
  },
  {
   "cell_type": "code",
   "execution_count": 2,
   "id": "685db2a0-ff3f-40c4-9a20-e9afc5bbe956",
   "metadata": {},
   "outputs": [],
   "source": [
    "list=[]"
   ]
  },
  {
   "cell_type": "code",
   "execution_count": 3,
   "id": "9defa5ec-84ce-41ab-b293-d9a2a40e0eb2",
   "metadata": {},
   "outputs": [
    {
     "name": "stdout",
     "output_type": "stream",
     "text": [
      "[]\n"
     ]
    }
   ],
   "source": [
    "print(list)"
   ]
  },
  {
   "cell_type": "code",
   "execution_count": 4,
   "id": "e4102721-11ad-4549-bb0c-d1b487ce42c6",
   "metadata": {},
   "outputs": [
    {
     "data": {
      "text/plain": [
       "list"
      ]
     },
     "execution_count": 4,
     "metadata": {},
     "output_type": "execute_result"
    }
   ],
   "source": [
    "type(list)\n"
   ]
  },
  {
   "cell_type": "code",
   "execution_count": 5,
   "id": "b2be80e4-715c-400b-9025-031f39e0c5de",
   "metadata": {},
   "outputs": [],
   "source": [
    "list =[2,34,5,]"
   ]
  },
  {
   "cell_type": "code",
   "execution_count": 6,
   "id": "0685b8e3-dd82-46bd-a420-9e6cfe0c01b1",
   "metadata": {},
   "outputs": [
    {
     "data": {
      "text/plain": [
       "[2, 34, 5]"
      ]
     },
     "execution_count": 6,
     "metadata": {},
     "output_type": "execute_result"
    }
   ],
   "source": [
    "list"
   ]
  },
  {
   "cell_type": "code",
   "execution_count": 7,
   "id": "5b971d44-d9c3-4474-b68b-bc6e00f11d74",
   "metadata": {},
   "outputs": [
    {
     "data": {
      "text/plain": [
       "2"
      ]
     },
     "execution_count": 7,
     "metadata": {},
     "output_type": "execute_result"
    }
   ],
   "source": [
    "list[0]"
   ]
  },
  {
   "cell_type": "code",
   "execution_count": 8,
   "id": "0147e89a-b0eb-41c7-b94d-b046fac608b4",
   "metadata": {},
   "outputs": [
    {
     "data": {
      "text/plain": [
       "True"
      ]
     },
     "execution_count": 8,
     "metadata": {},
     "output_type": "execute_result"
    }
   ],
   "source": [
    "2 in list"
   ]
  },
  {
   "cell_type": "code",
   "execution_count": 9,
   "id": "93a2cd47-50ee-448e-993a-e6179f99df38",
   "metadata": {},
   "outputs": [],
   "source": [
    "_name=\"jang\""
   ]
  },
  {
   "cell_type": "code",
   "execution_count": 10,
   "id": "c3a96b78-eef4-45c0-9359-dcccda3c3129",
   "metadata": {},
   "outputs": [
    {
     "name": "stdout",
     "output_type": "stream",
     "text": [
      "jang\n"
     ]
    }
   ],
   "source": [
    "print(_name)"
   ]
  },
  {
   "cell_type": "code",
   "execution_count": 11,
   "id": "e3cf0a65-9873-4393-b13b-6c777441638d",
   "metadata": {},
   "outputs": [
    {
     "ename": "SyntaxError",
     "evalue": "invalid imaginary literal (997403815.py, line 1)",
     "output_type": "error",
     "traceback": [
      "\u001b[1;36m  Cell \u001b[1;32mIn[11], line 1\u001b[1;36m\u001b[0m\n\u001b[1;33m    9jname=\"jang\"\u001b[0m\n\u001b[1;37m     ^\u001b[0m\n\u001b[1;31mSyntaxError\u001b[0m\u001b[1;31m:\u001b[0m invalid imaginary literal\n"
     ]
    }
   ],
   "source": [
    "9jname=\"jang\""
   ]
  },
  {
   "cell_type": "code",
   "execution_count": null,
   "id": "cd3197fb-4ffc-48e9-828a-470ec0b41c11",
   "metadata": {},
   "outputs": [],
   "source": [
    "print(9jname)"
   ]
  },
  {
   "cell_type": "code",
   "execution_count": null,
   "id": "149001ff-41e3-4f0a-b4fa-3e6c6cd8428a",
   "metadata": {},
   "outputs": [],
   "source": [
    "_n=\"jang\""
   ]
  },
  {
   "cell_type": "code",
   "execution_count": null,
   "id": "5d193667-484e-46da-9a2b-8173553cb43b",
   "metadata": {},
   "outputs": [],
   "source": [
    "println(_n)"
   ]
  },
  {
   "cell_type": "code",
   "execution_count": null,
   "id": "6dc1390a-9f59-44b6-98ab-3ad0a72b640a",
   "metadata": {},
   "outputs": [],
   "source": [
    "print(_n)"
   ]
  },
  {
   "cell_type": "code",
   "execution_count": null,
   "id": "1c363baa-fbb3-4bd1-8697-f5c80aae03f3",
   "metadata": {},
   "outputs": [],
   "source": [
    "first_name='jang'"
   ]
  },
  {
   "cell_type": "code",
   "execution_count": null,
   "id": "efcfee38-a127-460e-9d17-21ec8a7292e7",
   "metadata": {},
   "outputs": [],
   "source": [
    "print(first_name)"
   ]
  },
  {
   "cell_type": "code",
   "execution_count": null,
   "id": "188a395f-9316-4aa2-b00b-5828efe79d06",
   "metadata": {},
   "outputs": [],
   "source": [
    "type(first_name)"
   ]
  },
  {
   "cell_type": "markdown",
   "id": "94f2835a-d856-43c2-b342-2ea2c2fc1d4d",
   "metadata": {},
   "source": [
    "<h1>NumberOfCollectNmae</h1>"
   ]
  },
  {
   "cell_type": "markdown",
   "id": "cd2c1650-5335-475c-8f3f-72ea818dbc8b",
   "metadata": {},
   "source": [
    "fdsfdsf"
   ]
  },
  {
   "cell_type": "markdown",
   "id": "f4c4ad3a-53ca-49a2-93ba-13d830730746",
   "metadata": {},
   "source": [
    "<h1>CAMEL CASE</h1>"
   ]
  },
  {
   "cell_type": "code",
   "execution_count": null,
   "id": "0f53116f-1b30-4220-98dc-9455faf4f833",
   "metadata": {},
   "outputs": [],
   "source": [
    "NumberOfStudent\n"
   ]
  },
  {
   "cell_type": "markdown",
   "id": "a7fc934d-ed35-4a3c-aa9e-9c5455f575b3",
   "metadata": {},
   "source": [
    "<h1>PASCEL CASE</h1>"
   ]
  },
  {
   "cell_type": "code",
   "execution_count": null,
   "id": "4f391943-8acb-4dd8-8483-601d9213914b",
   "metadata": {},
   "outputs": [],
   "source": [
    "numberOfStudent"
   ]
  },
  {
   "cell_type": "code",
   "execution_count": null,
   "id": "7ee5a8ea-4688-4158-9255-6dc582b15258",
   "metadata": {},
   "outputs": [],
   "source": [
    "import keyword\n",
    "\n",
    "print(keyword.kwlist)\n"
   ]
  },
  {
   "cell_type": "code",
   "execution_count": null,
   "id": "9a7e191b-163a-419e-9b05-2e839e3691d0",
   "metadata": {},
   "outputs": [],
   "source": [
    "keyword.kwlist"
   ]
  },
  {
   "cell_type": "code",
   "execution_count": null,
   "id": "ad749f43-1744-4a18-9be2-9a2acb21fbd7",
   "metadata": {},
   "outputs": [],
   "source": [
    "number  =90"
   ]
  },
  {
   "cell_type": "code",
   "execution_count": null,
   "id": "590ad27b-dbb1-437c-a9d8-0c4648c1e53e",
   "metadata": {},
   "outputs": [],
   "source": [
    "number1 = 90.89\n"
   ]
  },
  {
   "cell_type": "code",
   "execution_count": null,
   "id": "4140f2df-8d5b-4599-8f34-92c9125a49a3",
   "metadata": {},
   "outputs": [],
   "source": [
    "complex_numb = 2+3j"
   ]
  },
  {
   "cell_type": "code",
   "execution_count": null,
   "id": "a244e22b-7d29-43cb-96d5-db76ac9f476e",
   "metadata": {},
   "outputs": [],
   "source": [
    "type(complex_numb)"
   ]
  },
  {
   "cell_type": "code",
   "execution_count": null,
   "id": "efce3ea8-158d-4947-8276-4c6cfa7933be",
   "metadata": {},
   "outputs": [],
   "source": [
    "dictionaries"
   ]
  },
  {
   "cell_type": "code",
   "execution_count": null,
   "id": "42de10c3-bb4d-49f3-ba0d-e3e0f9c3fbf1",
   "metadata": {},
   "outputs": [],
   "source": [
    "dict_={\"name\":\"jang\", \"Grade\":\"A\", \"marks\":99}"
   ]
  },
  {
   "cell_type": "code",
   "execution_count": null,
   "id": "16b0b16e-5f1f-4b4f-b6ef-5c3bd593f6bd",
   "metadata": {},
   "outputs": [],
   "source": [
    "dict_"
   ]
  },
  {
   "cell_type": "code",
   "execution_count": null,
   "id": "6236ddc0-9338-4403-9720-1f1b90701fea",
   "metadata": {},
   "outputs": [],
   "source": [
    "print(dict_)"
   ]
  },
  {
   "cell_type": "code",
   "execution_count": null,
   "id": "48a38b00-953e-4324-97c3-f33630c151b7",
   "metadata": {},
   "outputs": [],
   "source": [
    "type(dict_)"
   ]
  },
  {
   "cell_type": "code",
   "execution_count": null,
   "id": "8d0587ec-f4b8-4aa8-98b3-62834664f12c",
   "metadata": {},
   "outputs": [],
   "source": [
    "7**5"
   ]
  },
  {
   "cell_type": "code",
   "execution_count": null,
   "id": "d6f65fe9-567e-428f-ae50-716a4c9f6eea",
   "metadata": {},
   "outputs": [],
   "source": [
    "n=7\n",
    "nn=5\n",
    "f=n**nn"
   ]
  },
  {
   "cell_type": "code",
   "execution_count": null,
   "id": "cd54780e-25a3-4d07-b1b7-f9fbe6f85015",
   "metadata": {},
   "outputs": [],
   "source": [
    "print(f)"
   ]
  },
  {
   "cell_type": "code",
   "execution_count": null,
   "id": "d4713a2f-f825-418f-9aed-5dbde7fff576",
   "metadata": {},
   "outputs": [],
   "source": [
    "\n",
    "is_student = False\n",
    "income = 3000\n",
    "age=10\n",
    "is_member = True\n",
    "movies_watched = 3"
   ]
  },
  {
   "cell_type": "code",
   "execution_count": null,
   "id": "d0a9f319-3b0b-45dc-949e-18f3c82eb629",
   "metadata": {},
   "outputs": [],
   "source": [
    "age>=10 and(is_student!=True or income <2000) or (is_member==True and  movies_watched >2)"
   ]
  },
  {
   "cell_type": "code",
   "execution_count": null,
   "id": "f3e250df-2535-452b-b01d-30b3dd15fb6a",
   "metadata": {},
   "outputs": [],
   "source": [
    "length = 5\n",
    "width = 10"
   ]
  },
  {
   "cell_type": "code",
   "execution_count": null,
   "id": "9fe658e7-335f-49a9-b0d1-5de2ad050727",
   "metadata": {},
   "outputs": [],
   "source": [
    "area = length*width"
   ]
  },
  {
   "cell_type": "code",
   "execution_count": null,
   "id": "e511ef06-2efe-441c-a652-f3cbcd46d6c5",
   "metadata": {},
   "outputs": [],
   "source": [
    "print(area)"
   ]
  },
  {
   "cell_type": "code",
   "execution_count": null,
   "id": "b137e77d-81e5-4064-80f0-679130698df4",
   "metadata": {},
   "outputs": [],
   "source": [
    "a=10\n",
    "b=2\n",
    "c=a+b\n",
    "d=a-b\n",
    "e=a/b\n",
    "f=a%b\n",
    "print(\"CALCULATER !!\")\n",
    "print(c)\n",
    "print(d)\n",
    "print(e)\n",
    "print(f)\n",
    "print(type(c))"
   ]
  },
  {
   "cell_type": "markdown",
   "id": "5f7f57ef-17e1-41af-a48b-adf3b2ac84b7",
   "metadata": {},
   "source": [
    "IDENTITY OPERATOR"
   ]
  },
  {
   "cell_type": "code",
   "execution_count": null,
   "id": "051cf905-2290-4468-8537-05b044971dd9",
   "metadata": {},
   "outputs": [],
   "source": [
    "x = 10\n",
    "y = 12"
   ]
  },
  {
   "cell_type": "code",
   "execution_count": null,
   "id": "fd83f6a7-b1c5-4454-963f-779377fb0448",
   "metadata": {},
   "outputs": [],
   "source": [
    "x is y"
   ]
  },
  {
   "cell_type": "code",
   "execution_count": null,
   "id": "7d18bad2-9965-4732-b292-446806f3aad9",
   "metadata": {},
   "outputs": [],
   "source": [
    "x is x "
   ]
  },
  {
   "cell_type": "code",
   "execution_count": null,
   "id": "ff4576c4-ef5e-42df-96e3-2390c00ea26b",
   "metadata": {},
   "outputs": [],
   "source": [
    "x is not y"
   ]
  },
  {
   "cell_type": "code",
   "execution_count": null,
   "id": "0ebaf036-fb35-43b9-90e5-61ae1c60f191",
   "metadata": {},
   "outputs": [],
   "source": [
    "x =[1,2]\n",
    "y=[1,2]"
   ]
  },
  {
   "cell_type": "code",
   "execution_count": null,
   "id": "30aae97b-9111-4f54-9398-51c1dd7f5ae5",
   "metadata": {},
   "outputs": [],
   "source": [
    "x is y"
   ]
  },
  {
   "cell_type": "code",
   "execution_count": null,
   "id": "ecd39e81-1b80-4bcf-9036-699a0df193d7",
   "metadata": {},
   "outputs": [],
   "source": [
    "id(x)"
   ]
  },
  {
   "cell_type": "code",
   "execution_count": null,
   "id": "2d66b992-9b19-480b-987b-c5181929f76d",
   "metadata": {},
   "outputs": [],
   "source": [
    "id(y)"
   ]
  },
  {
   "cell_type": "markdown",
   "id": "f775bdde-cb40-4f2d-85c2-b05a7907b3ea",
   "metadata": {},
   "source": [
    "<h1>In OPERATOR - to test if value is in sequence or not(list,tuple,String) </h1>"
   ]
  },
  {
   "cell_type": "code",
   "execution_count": null,
   "id": "ead3ec1d-36b0-4d99-81f2-e490c15fa907",
   "metadata": {},
   "outputs": [],
   "source": [
    "fruit = \"apple\""
   ]
  },
  {
   "cell_type": "code",
   "execution_count": null,
   "id": "8dde215a-0f6d-4d2d-b247-2feb453b7b9b",
   "metadata": {},
   "outputs": [],
   "source": [
    "'l' in fruit"
   ]
  },
  {
   "cell_type": "code",
   "execution_count": null,
   "id": "e5ca067f-b4a8-4214-ac2c-d70b4881b815",
   "metadata": {},
   "outputs": [],
   "source": [
    "l= ['Aryan','Sagar','Prachi','Anand']"
   ]
  },
  {
   "cell_type": "code",
   "execution_count": null,
   "id": "08ab4bd3-330c-4a5b-86f7-b591f1f544da",
   "metadata": {},
   "outputs": [],
   "source": [
    "'Prachi' in l\n"
   ]
  },
  {
   "cell_type": "code",
   "execution_count": null,
   "id": "33a2a575-1c5b-4ffe-ad70-6b97f72f18b8",
   "metadata": {},
   "outputs": [],
   "source": [
    "'prachi' in l"
   ]
  },
  {
   "cell_type": "code",
   "execution_count": null,
   "id": "d634f0bb-a5b6-4739-9172-2285345c50a9",
   "metadata": {},
   "outputs": [],
   "source": [
    "5&3"
   ]
  },
  {
   "cell_type": "code",
   "execution_count": null,
   "id": "7f2d3f1d-cfe0-4ec6-a825-7f2de5c6352e",
   "metadata": {},
   "outputs": [],
   "source": [
    "10&7"
   ]
  },
  {
   "cell_type": "code",
   "execution_count": null,
   "id": "76e385ab-d8c7-47a1-b257-6df52a8ac858",
   "metadata": {},
   "outputs": [],
   "source": [
    "10|7"
   ]
  },
  {
   "cell_type": "code",
   "execution_count": null,
   "id": "27e7e8eb-fdb1-4bbb-ad5d-fa1b35833616",
   "metadata": {},
   "outputs": [],
   "source": [
    "~10"
   ]
  },
  {
   "cell_type": "code",
   "execution_count": null,
   "id": "ff6e2c1f-9f83-4dbd-a934-5191d4f0634b",
   "metadata": {},
   "outputs": [],
   "source": []
  },
  {
   "cell_type": "code",
   "execution_count": null,
   "id": "8cce0f85-d9df-49c4-8c1d-e0c41601591c",
   "metadata": {},
   "outputs": [],
   "source": [
    "~-10"
   ]
  },
  {
   "cell_type": "markdown",
   "id": "1f6a74a5-cf10-43a0-92df-f4646152f4d1",
   "metadata": {},
   "source": [
    "<H1>TYPECASTING</H1>"
   ]
  },
  {
   "cell_type": "code",
   "execution_count": null,
   "id": "2f5eaf64-6744-4634-aa94-18ec26f95a6e",
   "metadata": {},
   "outputs": [],
   "source": [
    "a=10\n",
    "b=5.5"
   ]
  },
  {
   "cell_type": "code",
   "execution_count": null,
   "id": "8023c089-467c-471b-8b68-a878dbc00296",
   "metadata": {},
   "outputs": [],
   "source": [
    "a+b"
   ]
  },
  {
   "cell_type": "markdown",
   "id": "24e2690e-1bea-4ee3-9ec3-77805f59f0f3",
   "metadata": {},
   "source": [
    "<H2>EXPLICIT EXAMPLE</H2>"
   ]
  },
  {
   "cell_type": "code",
   "execution_count": null,
   "id": "95043a0a-114a-4bed-b290-8648bcff809a",
   "metadata": {},
   "outputs": [],
   "source": [
    "a=10\n",
    "b=20.7"
   ]
  },
  {
   "cell_type": "code",
   "execution_count": null,
   "id": "5827e48a-eecd-4131-a55a-87d524ea7398",
   "metadata": {},
   "outputs": [],
   "source": [
    "a+ int(b)"
   ]
  },
  {
   "cell_type": "code",
   "execution_count": null,
   "id": "6e208add-c20f-4af5-9672-467bb8079ae6",
   "metadata": {},
   "outputs": [],
   "source": [
    "float(a)+b"
   ]
  },
  {
   "cell_type": "code",
   "execution_count": null,
   "id": "b1873f8d-0b02-4f03-8e9b-5f43a527011f",
   "metadata": {},
   "outputs": [],
   "source": [
    "a+b"
   ]
  },
  {
   "cell_type": "code",
   "execution_count": null,
   "id": "461a89ba-f2ca-4510-94c3-6e2019df12ef",
   "metadata": {},
   "outputs": [],
   "source": [
    "x=9.7\n",
    "y=int(x)"
   ]
  },
  {
   "cell_type": "code",
   "execution_count": null,
   "id": "1bb6f104-926e-4f0b-8a13-c13033e54dfb",
   "metadata": {},
   "outputs": [],
   "source": [
    "y"
   ]
  },
  {
   "cell_type": "code",
   "execution_count": null,
   "id": "81132436-c173-402e-aef3-13b2a60140cf",
   "metadata": {},
   "outputs": [],
   "source": [
    "x =10\n",
    "y = float(x)"
   ]
  },
  {
   "cell_type": "code",
   "execution_count": null,
   "id": "7720f1c9-01a9-4284-9294-33cd364d8691",
   "metadata": {},
   "outputs": [],
   "source": [
    "y"
   ]
  },
  {
   "cell_type": "code",
   "execution_count": null,
   "id": "3c6afc08-e853-43e1-89bc-e094b6318f86",
   "metadata": {},
   "outputs": [],
   "source": [
    "type(y)"
   ]
  },
  {
   "cell_type": "code",
   "execution_count": null,
   "id": "bac182be-2972-45b2-a28d-e265dc8b7672",
   "metadata": {},
   "outputs": [],
   "source": [
    "x =100"
   ]
  },
  {
   "cell_type": "code",
   "execution_count": null,
   "id": "9e508f8a-765a-45a9-85cc-01d17796ac50",
   "metadata": {},
   "outputs": [],
   "source": [
    "y= str(x)"
   ]
  },
  {
   "cell_type": "code",
   "execution_count": null,
   "id": "d3c3b7aa-9a23-45d1-965c-71ad5d16d4ed",
   "metadata": {},
   "outputs": [],
   "source": [
    "type(y)"
   ]
  },
  {
   "cell_type": "code",
   "execution_count": null,
   "id": "4fada063-d12f-4c92-97be-d2206cb16ce3",
   "metadata": {},
   "outputs": [],
   "source": [
    "x =\"jang\"\n"
   ]
  },
  {
   "cell_type": "code",
   "execution_count": null,
   "id": "a967bf18-a412-44b7-9e7a-fc2c57bb9894",
   "metadata": {},
   "outputs": [],
   "source": [
    "int(x)"
   ]
  },
  {
   "cell_type": "code",
   "execution_count": null,
   "id": "91d445be-b3d2-4619-b573-7c25863d985d",
   "metadata": {},
   "outputs": [],
   "source": [
    "x='100'"
   ]
  },
  {
   "cell_type": "code",
   "execution_count": null,
   "id": "3fa3d094-0e75-4755-a631-e86a531e1d3e",
   "metadata": {},
   "outputs": [],
   "source": [
    "type(x)"
   ]
  },
  {
   "cell_type": "code",
   "execution_count": null,
   "id": "6a3d9145-7e19-4165-8f04-18ee7dccf8f5",
   "metadata": {},
   "outputs": [],
   "source": [
    "y= int(x)"
   ]
  },
  {
   "cell_type": "code",
   "execution_count": null,
   "id": "741498f8-1848-4a6a-b892-2b53a4c61dfe",
   "metadata": {},
   "outputs": [],
   "source": [
    "type(y)"
   ]
  },
  {
   "cell_type": "code",
   "execution_count": null,
   "id": "75de68aa-b6ad-4ed9-bb7e-cfe6c7ca5340",
   "metadata": {},
   "outputs": [],
   "source": [
    "s=\"3.14\""
   ]
  },
  {
   "cell_type": "code",
   "execution_count": null,
   "id": "e5473b34-3c2a-46c0-873a-5764b21df615",
   "metadata": {},
   "outputs": [],
   "source": [
    "t = float(s)"
   ]
  },
  {
   "cell_type": "code",
   "execution_count": null,
   "id": "9c9f2db4-9408-4cd6-8b42-4845ee5efff9",
   "metadata": {},
   "outputs": [],
   "source": [
    "type(t)"
   ]
  },
  {
   "cell_type": "code",
   "execution_count": null,
   "id": "10943bc7-9b12-4883-86e3-e33f67dc3519",
   "metadata": {},
   "outputs": [],
   "source": [
    "x = 0"
   ]
  },
  {
   "cell_type": "code",
   "execution_count": null,
   "id": "7fa6a531-6d16-44a6-af27-c6d75ef30361",
   "metadata": {},
   "outputs": [],
   "source": [
    "bool(x)"
   ]
  },
  {
   "cell_type": "code",
   "execution_count": 21,
   "id": "bb8670fc-96ce-4180-8416-838591ff0604",
   "metadata": {},
   "outputs": [],
   "source": [
    "z = 5"
   ]
  },
  {
   "cell_type": "code",
   "execution_count": 22,
   "id": "397668af-4f6b-4b10-a7fb-e8c3337e90dc",
   "metadata": {},
   "outputs": [
    {
     "data": {
      "text/plain": [
       "True"
      ]
     },
     "execution_count": 22,
     "metadata": {},
     "output_type": "execute_result"
    }
   ],
   "source": [
    "bool(z)"
   ]
  },
  {
   "cell_type": "code",
   "execution_count": 23,
   "id": "7579a32a-bc03-4116-abef-ba7389b27b6b",
   "metadata": {},
   "outputs": [],
   "source": [
    "z = -5"
   ]
  },
  {
   "cell_type": "code",
   "execution_count": 24,
   "id": "3ceeeec0-3481-4b51-b9ed-aafa007b7ee0",
   "metadata": {},
   "outputs": [
    {
     "data": {
      "text/plain": [
       "True"
      ]
     },
     "execution_count": 24,
     "metadata": {},
     "output_type": "execute_result"
    }
   ],
   "source": [
    "bool(z)"
   ]
  },
  {
   "cell_type": "code",
   "execution_count": null,
   "id": "b1882da9-91db-4c5c-bf6d-fdcb9197ae9c",
   "metadata": {},
   "outputs": [],
   "source": [
    "l = [1,2,3,46,7,90,3,2]"
   ]
  },
  {
   "cell_type": "code",
   "execution_count": null,
   "id": "c2ee09e7-fbfc-425e-9668-e1a06ed68d6c",
   "metadata": {},
   "outputs": [],
   "source": [
    "type(l)"
   ]
  },
  {
   "cell_type": "code",
   "execution_count": null,
   "id": "4b7b5718-4420-4af0-a72d-6632590a82cf",
   "metadata": {},
   "outputs": [],
   "source": [
    "b=set(l)"
   ]
  },
  {
   "cell_type": "code",
   "execution_count": null,
   "id": "a71dff25-1e11-4eff-92ba-7b6f29fd8586",
   "metadata": {},
   "outputs": [],
   "source": [
    "type(b)"
   ]
  },
  {
   "cell_type": "code",
   "execution_count": null,
   "id": "9e0a2665-b012-4f12-81d8-fb6caaff310e",
   "metadata": {},
   "outputs": [],
   "source": [
    "b"
   ]
  },
  {
   "cell_type": "code",
   "execution_count": 17,
   "id": "35212e8a-8e33-4571-adec-09fbef8ce3da",
   "metadata": {},
   "outputs": [],
   "source": [
    "age = \"18\""
   ]
  },
  {
   "cell_type": "code",
   "execution_count": 18,
   "id": "5823bf35-1257-4be8-bf85-28f54a3ac9a7",
   "metadata": {},
   "outputs": [
    {
     "name": "stdout",
     "output_type": "stream",
     "text": [
      "eligible for voting\n"
     ]
    }
   ],
   "source": [
    "if int(age) >=18:\n",
    "    print(\"eligible for voting\")"
   ]
  },
  {
   "cell_type": "code",
   "execution_count": 1,
   "id": "ec028b72-7b68-4192-888a-09f9435bff0b",
   "metadata": {},
   "outputs": [
    {
     "name": "stdout",
     "output_type": "stream",
     "text": [
      "welcome to first program Py\n"
     ]
    }
   ],
   "source": [
    "print(\"welcome to first program Py\")"
   ]
  },
  {
   "cell_type": "code",
   "execution_count": 2,
   "id": "63449c6d-6ea9-46c1-abb4-8a608336f492",
   "metadata": {},
   "outputs": [],
   "source": [
    "a= 10"
   ]
  },
  {
   "cell_type": "code",
   "execution_count": 3,
   "id": "c01fd718-a418-475e-bd47-abc42c07cb97",
   "metadata": {},
   "outputs": [
    {
     "name": "stdout",
     "output_type": "stream",
     "text": [
      "Number is: 10\n"
     ]
    }
   ],
   "source": [
    "print(\"Number is:\",a)"
   ]
  },
  {
   "cell_type": "markdown",
   "id": "d050f49c-1da8-45aa-9902-4d1dda246de1",
   "metadata": {},
   "source": [
    "<h1>CALCULATOR IS RUNNING !!!!</h1>"
   ]
  },
  {
   "cell_type": "code",
   "execution_count": 4,
   "id": "6b7c4727-64bd-49c3-a445-aa0098a22dc9",
   "metadata": {},
   "outputs": [],
   "source": [
    "a =10\n",
    "b = 7"
   ]
  },
  {
   "cell_type": "code",
   "execution_count": 5,
   "id": "b049742e-b2ac-4bfe-8602-8d039456eb79",
   "metadata": {},
   "outputs": [],
   "source": [
    "sum = a + b\n",
    "sub = a - b\n",
    "mul = a * b\n",
    "div = a / b\n"
   ]
  },
  {
   "cell_type": "code",
   "execution_count": 11,
   "id": "82493fd6-4e4e-4f1c-bfba-8cb2dc0636ce",
   "metadata": {},
   "outputs": [
    {
     "name": "stdout",
     "output_type": "stream",
     "text": [
      "sum: 17 subtration: 3 MULTIPLICATION: 70 DIVIDED: 1.4285714285714286\n"
     ]
    }
   ],
   "source": [
    "print(\"sum:\",sum , \"subtration:\",sub, \"MULTIPLICATION:\",mul, \"DIVIDED:\",div)"
   ]
  },
  {
   "cell_type": "code",
   "execution_count": 12,
   "id": "079943ee-71eb-47d7-bf54-e28a4dd4626d",
   "metadata": {},
   "outputs": [
    {
     "name": "stdout",
     "output_type": "stream",
     "text": [
      "a:b:c\n"
     ]
    }
   ],
   "source": [
    "print(\"a\",\"b\",\"c\", sep = ':')"
   ]
  },
  {
   "cell_type": "code",
   "execution_count": 13,
   "id": "b64cb43f-1458-40e8-b5a7-95d6d2e9cce0",
   "metadata": {},
   "outputs": [
    {
     "name": "stdout",
     "output_type": "stream",
     "text": [
      "a-b-c\n"
     ]
    }
   ],
   "source": [
    "print(\"a\",\"b\",\"c\", sep = '-')"
   ]
  },
  {
   "cell_type": "code",
   "execution_count": 22,
   "id": "ece9073f-b46e-4d24-8e84-5c90a9c30ddc",
   "metadata": {},
   "outputs": [
    {
     "name": "stdout",
     "output_type": "stream",
     "text": [
      "Hello Welcome\n"
     ]
    }
   ],
   "source": [
    "print(\"Hello\", end=' ')\n",
    "print(\"Welcome\")"
   ]
  },
  {
   "cell_type": "code",
   "execution_count": 24,
   "id": "1dc27f17-733b-4f9f-ae1b-ca0eb1e41642",
   "metadata": {},
   "outputs": [
    {
     "name": "stdout",
     "output_type": "stream",
     "text": [
      "HELLO WELCOME JANG\n"
     ]
    }
   ],
   "source": [
    "print(\"HELLO\", end=' ')\n",
    "print(\"WELCOME\", end =' ')\n",
    "print(\"JANG\")"
   ]
  },
  {
   "cell_type": "code",
   "execution_count": 25,
   "id": "21a3a7b9-c447-4d9a-b91c-72e784223bf8",
   "metadata": {},
   "outputs": [],
   "source": [
    "name=\"JANGBAHADUR PRAAD\"\n",
    "age=23"
   ]
  },
  {
   "cell_type": "code",
   "execution_count": 26,
   "id": "0f4b12a2-dfad-44fd-a5af-83b94477934e",
   "metadata": {},
   "outputs": [
    {
     "name": "stdout",
     "output_type": "stream",
     "text": [
      "Name: JANGBAHADUR PRAAD Age: 23\n"
     ]
    }
   ],
   "source": [
    "print(\"Name:\",name, \"Age:\",age)"
   ]
  },
  {
   "cell_type": "code",
   "execution_count": 28,
   "id": "c17ed74f-c85b-428c-868c-77dc1e3cf001",
   "metadata": {},
   "outputs": [
    {
     "name": "stdout",
     "output_type": "stream",
     "text": [
      " Name: JANGBAHADUR PRAAD \n",
      " age: 23\n"
     ]
    }
   ],
   "source": [
    "print(\" Name:\",name, \"\\n\", \"age:\", age)"
   ]
  },
  {
   "cell_type": "code",
   "execution_count": 30,
   "id": "5b832519-f586-456c-9279-4b6d07707755",
   "metadata": {},
   "outputs": [
    {
     "name": "stdout",
     "output_type": "stream",
     "text": [
      " Name: JANGBAHADUR PRAAD \t age: 23\n"
     ]
    }
   ],
   "source": [
    "print(\" Name:\",name, \"\\t\", \"age:\", age)"
   ]
  },
  {
   "cell_type": "code",
   "execution_count": 32,
   "id": "15cec67b-ff17-4b6e-81b4-22a3ffc18b1f",
   "metadata": {},
   "outputs": [
    {
     "name": "stdout",
     "output_type": "stream",
     "text": [
      "She said: \"HI !\"\n"
     ]
    }
   ],
   "source": [
    "print(\"She said: \\\"HI !\\\"\")"
   ]
  },
  {
   "cell_type": "code",
   "execution_count": 36,
   "id": "995b7c8c-626f-4ff9-a3d1-d978ec0536b2",
   "metadata": {},
   "outputs": [
    {
     "name": "stdout",
     "output_type": "stream",
     "text": [
      "Hello: \"Prachi\"\n"
     ]
    }
   ],
   "source": [
    "print(\"Hello: \\\"Prachi\\\"\")"
   ]
  },
  {
   "cell_type": "code",
   "execution_count": 37,
   "id": "c6582f4c-fb78-4b4f-a7a3-1fcf970e390a",
   "metadata": {},
   "outputs": [
    {
     "data": {
      "text/plain": [
       "builtin_function_or_method"
      ]
     },
     "execution_count": 37,
     "metadata": {},
     "output_type": "execute_result"
    }
   ],
   "source": [
    "type(print)"
   ]
  },
  {
   "cell_type": "code",
   "execution_count": 38,
   "id": "92a83095-1944-4e91-ae41-a3d666d64417",
   "metadata": {},
   "outputs": [
    {
     "name": "stdout",
     "output_type": "stream",
     "text": [
      "String concatenation also workds\n"
     ]
    }
   ],
   "source": [
    "print('String concatenation', 'also', 'workds')"
   ]
  },
  {
   "cell_type": "code",
   "execution_count": 40,
   "id": "6d804569-c3f7-4e04-93de-b71f43041383",
   "metadata": {},
   "outputs": [
    {
     "name": "stdout",
     "output_type": "stream",
     "text": [
      " String concatenation \n",
      " also \n",
      " workds\n"
     ]
    }
   ],
   "source": [
    "print(' String concatenation', \"\\n\", 'also', \"\\n\",  'workds')"
   ]
  },
  {
   "cell_type": "code",
   "execution_count": 43,
   "id": "233c9378-4391-4646-9227-d996e3b7df0d",
   "metadata": {},
   "outputs": [
    {
     "name": "stdout",
     "output_type": "stream",
     "text": [
      " String concatenation\n",
      " also\n",
      " workds\n",
      "\n"
     ]
    }
   ],
   "source": [
    "print(' String concatenation\\n', 'also\\n', 'workds\\n')"
   ]
  },
  {
   "cell_type": "code",
   "execution_count": 44,
   "id": "8faf9b48-e2b3-4037-ada0-94397ae69855",
   "metadata": {},
   "outputs": [
    {
     "name": "stdout",
     "output_type": "stream",
     "text": [
      "3+5\n"
     ]
    }
   ],
   "source": [
    "print(\"3+5\")"
   ]
  },
  {
   "cell_type": "code",
   "execution_count": 45,
   "id": "5849d98b-44b9-4aca-a08b-50fd67d55602",
   "metadata": {},
   "outputs": [
    {
     "name": "stdout",
     "output_type": "stream",
     "text": [
      "8\n"
     ]
    }
   ],
   "source": [
    "print(3+5)"
   ]
  },
  {
   "cell_type": "markdown",
   "id": "c2222f9c-4f51-4ff5-b735-96d346c8025e",
   "metadata": {},
   "source": [
    "<h1>INPUT TYPE FROM USER</h1>\n"
   ]
  },
  {
   "cell_type": "code",
   "execution_count": 47,
   "id": "f898772b-f20b-4a27-b828-8474c4b20287",
   "metadata": {},
   "outputs": [
    {
     "name": "stdin",
     "output_type": "stream",
     "text": [
      "  JANGBAHADUR PRASAD\n"
     ]
    }
   ],
   "source": [
    "name = input(\" \")"
   ]
  },
  {
   "cell_type": "code",
   "execution_count": 48,
   "id": "6970e75c-9722-4ee9-8a5b-a30bc0158f2b",
   "metadata": {},
   "outputs": [
    {
     "name": "stdin",
     "output_type": "stream",
     "text": [
      "wlhat is name jang\n"
     ]
    }
   ],
   "source": [
    "NAME = input(\"wlhat is name\")"
   ]
  },
  {
   "cell_type": "code",
   "execution_count": 49,
   "id": "0f1ff8ca-72d3-4fe9-903e-ed3cdff6a369",
   "metadata": {},
   "outputs": [
    {
     "name": "stdout",
     "output_type": "stream",
     "text": [
      "JANGBAHADUR PRASAD\n"
     ]
    }
   ],
   "source": [
    "print(name)"
   ]
  },
  {
   "cell_type": "code",
   "execution_count": 53,
   "id": "d21d146d-dc4d-44db-9f21-640a373166c2",
   "metadata": {},
   "outputs": [
    {
     "name": "stdin",
     "output_type": "stream",
     "text": [
      "enter the number 8765\n"
     ]
    }
   ],
   "source": [
    "number = int(input(\"enter the number\"))"
   ]
  },
  {
   "cell_type": "code",
   "execution_count": 54,
   "id": "bd41e2d3-10aa-45f3-99e2-6835711c7311",
   "metadata": {},
   "outputs": [
    {
     "data": {
      "text/plain": [
       "int"
      ]
     },
     "execution_count": 54,
     "metadata": {},
     "output_type": "execute_result"
    }
   ],
   "source": [
    "type(number)\n"
   ]
  },
  {
   "cell_type": "code",
   "execution_count": 57,
   "id": "96ea6b11-5be5-44dd-a8b3-7f5757d5fed5",
   "metadata": {},
   "outputs": [
    {
     "name": "stdin",
     "output_type": "stream",
     "text": [
      "first number 90\n",
      "second number 90\n"
     ]
    },
    {
     "name": "stdout",
     "output_type": "stream",
     "text": [
      "180\n"
     ]
    }
   ],
   "source": [
    "num =  int(input(\"first number\"))\n",
    "numb = int(input(\"second number\"))\n",
    "result = num+numb;\n",
    "print(result)"
   ]
  },
  {
   "cell_type": "code",
   "execution_count": 58,
   "id": "ad87602a-f197-4e28-aca3-f56151c74976",
   "metadata": {},
   "outputs": [
    {
     "name": "stdin",
     "output_type": "stream",
     "text": [
      "first number 90.8\n",
      "second number 7\n"
     ]
    },
    {
     "name": "stdout",
     "output_type": "stream",
     "text": [
      "97.8\n"
     ]
    }
   ],
   "source": [
    "num =  float(input(\"first number\"))\n",
    "numb = float(input(\"second number\"))\n",
    "result = num+numb;\n",
    "print(result)"
   ]
  },
  {
   "cell_type": "code",
   "execution_count": 62,
   "id": "30018a2e-197e-4ca7-8263-04acafa96360",
   "metadata": {},
   "outputs": [
    {
     "name": "stdin",
     "output_type": "stream",
     "text": [
      "enter  the list 21 6 8 4\n"
     ]
    }
   ],
   "source": [
    "l= list(input(\"enter  the list\"))\n"
   ]
  },
  {
   "cell_type": "code",
   "execution_count": 63,
   "id": "d3be81d0-3032-4937-b368-5cea146f186b",
   "metadata": {},
   "outputs": [
    {
     "data": {
      "text/plain": [
       "1"
      ]
     },
     "execution_count": 63,
     "metadata": {},
     "output_type": "execute_result"
    }
   ],
   "source": [
    "1\n"
   ]
  },
  {
   "cell_type": "code",
   "execution_count": null,
   "id": "538caed4-8bd2-45a7-a133-5b7fa12a0453",
   "metadata": {},
   "outputs": [],
   "source": []
  },
  {
   "cell_type": "code",
   "execution_count": null,
   "id": "1a325c7e-f5bd-4385-b6d6-d31c23487a24",
   "metadata": {},
   "outputs": [],
   "source": []
  },
  {
   "cell_type": "code",
   "execution_count": null,
   "id": "6c28173d-0086-4844-bd55-b81d67ac57f1",
   "metadata": {},
   "outputs": [],
   "source": []
  },
  {
   "cell_type": "code",
   "execution_count": null,
   "id": "0571af53-caf0-4cb8-8881-c6777664265e",
   "metadata": {},
   "outputs": [],
   "source": []
  },
  {
   "cell_type": "code",
   "execution_count": null,
   "id": "f1af597f-740f-41ea-8074-d35a7d0f6917",
   "metadata": {},
   "outputs": [],
   "source": []
  },
  {
   "cell_type": "code",
   "execution_count": null,
   "id": "5c3a650b-8ce5-4657-97bf-e777a00127e6",
   "metadata": {},
   "outputs": [],
   "source": []
  },
  {
   "cell_type": "code",
   "execution_count": null,
   "id": "2cac1137-2245-4b6e-a9fe-4166dbe41322",
   "metadata": {},
   "outputs": [],
   "source": []
  },
  {
   "cell_type": "code",
   "execution_count": null,
   "id": "83845c5e-42ef-40bd-8a31-57c47959aa30",
   "metadata": {},
   "outputs": [],
   "source": []
  }
 ],
 "metadata": {
  "kernelspec": {
   "display_name": "Python 3 (ipykernel)",
   "language": "python",
   "name": "python3"
  },
  "language_info": {
   "codemirror_mode": {
    "name": "ipython",
    "version": 3
   },
   "file_extension": ".py",
   "mimetype": "text/x-python",
   "name": "python",
   "nbconvert_exporter": "python",
   "pygments_lexer": "ipython3",
   "version": "3.12.7"
  }
 },
 "nbformat": 4,
 "nbformat_minor": 5
}
