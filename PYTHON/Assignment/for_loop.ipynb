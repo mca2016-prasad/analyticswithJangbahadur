{
  "nbformat": 4,
  "nbformat_minor": 0,
  "metadata": {
    "colab": {
      "provenance": []
    },
    "kernelspec": {
      "name": "python3",
      "display_name": "Python 3"
    },
    "language_info": {
      "name": "python"
    }
  },
  "cells": [
    {
      "cell_type": "code",
      "execution_count": null,
      "metadata": {
        "id": "5_9FkNfjJWZC"
      },
      "outputs": [],
      "source": [
        "l = [4,8,9,10,11]"
      ]
    },
    {
      "cell_type": "code",
      "source": [
        "for i in l:\n",
        "  print(i)"
      ],
      "metadata": {
        "colab": {
          "base_uri": "https://localhost:8080/"
        },
        "id": "YQy8Bl-cJfw4",
        "outputId": "6d4aecd1-b125-453f-a792-cbed1267ea92"
      },
      "execution_count": null,
      "outputs": [
        {
          "output_type": "stream",
          "name": "stdout",
          "text": [
            "4\n",
            "8\n",
            "9\n",
            "10\n",
            "11\n"
          ]
        }
      ]
    },
    {
      "cell_type": "code",
      "source": [
        "l1=[]\n",
        "for i in l:\n",
        "  if i%2 == 0:\n",
        "    #print(i)\n",
        "    l1.append(i)"
      ],
      "metadata": {
        "id": "tLFLzZPVJkA3"
      },
      "execution_count": null,
      "outputs": []
    },
    {
      "cell_type": "code",
      "source": [
        "l1"
      ],
      "metadata": {
        "colab": {
          "base_uri": "https://localhost:8080/"
        },
        "id": "qCNR77S9KGLN",
        "outputId": "c148a6c3-e323-4579-acc8-4b5f3966ac4d"
      },
      "execution_count": null,
      "outputs": [
        {
          "output_type": "execute_result",
          "data": {
            "text/plain": [
              "[4, 8, 10]"
            ]
          },
          "metadata": {},
          "execution_count": 14
        }
      ]
    },
    {
      "cell_type": "code",
      "source": [
        "range(start,end,step)"
      ],
      "metadata": {
        "id": "HJDs68YRKP8z"
      },
      "execution_count": null,
      "outputs": []
    },
    {
      "cell_type": "code",
      "source": [
        "list(range(1,10,3))"
      ],
      "metadata": {
        "colab": {
          "base_uri": "https://localhost:8080/"
        },
        "id": "qluVY8eMKtTL",
        "outputId": "183ddfad-d204-419e-a55b-9f1e29aae273"
      },
      "execution_count": null,
      "outputs": [
        {
          "output_type": "execute_result",
          "data": {
            "text/plain": [
              "[1, 4, 7]"
            ]
          },
          "metadata": {},
          "execution_count": 20
        }
      ]
    },
    {
      "cell_type": "code",
      "source": [
        "Prachi\n",
        "P\n",
        "r\n",
        "a\n",
        "c\n",
        "h\n",
        "i"
      ],
      "metadata": {
        "id": "H40ABXLkKvWf"
      },
      "execution_count": null,
      "outputs": []
    },
    {
      "cell_type": "code",
      "source": [
        "a = \"prachi\"\n",
        "for i in a:\n",
        "    if i ==\"c\":\n",
        "      break\n",
        "    print(i)"
      ],
      "metadata": {
        "colab": {
          "base_uri": "https://localhost:8080/"
        },
        "id": "Gh9APo8ALdnh",
        "outputId": "f28e57e9-d01b-43fa-ba0f-00224c5d900a"
      },
      "execution_count": null,
      "outputs": [
        {
          "output_type": "stream",
          "name": "stdout",
          "text": [
            "p\n",
            "r\n",
            "a\n"
          ]
        }
      ]
    },
    {
      "cell_type": "code",
      "source": [
        "for i in range(10):\n",
        "  if i==5:\n",
        "    break\n",
        "  print(i)"
      ],
      "metadata": {
        "colab": {
          "base_uri": "https://localhost:8080/"
        },
        "id": "Q9OCz0KrLjiC",
        "outputId": "ea8b4485-5376-4bfd-a0fa-ea21cf25b8ab"
      },
      "execution_count": null,
      "outputs": [
        {
          "output_type": "stream",
          "name": "stdout",
          "text": [
            "0\n",
            "1\n",
            "2\n",
            "3\n",
            "4\n"
          ]
        }
      ]
    },
    {
      "cell_type": "code",
      "source": [
        "l = [1,2,\"p\",3,\"r\",\"a\",True,\"c\",3.6,\"h\",\"i\"]\n",
        "l1 =[]"
      ],
      "metadata": {
        "id": "jzMrqIKiMPR1"
      },
      "execution_count": null,
      "outputs": []
    },
    {
      "cell_type": "code",
      "source": [
        "l=[1,2,'p',3,'r','a', True,'c',3.6,'h','i']\n",
        "#l1=[]\n",
        "for i in l:\n",
        "    if type(i)==str:\n",
        "     print(i)\n",
        "\n"
      ],
      "metadata": {
        "colab": {
          "base_uri": "https://localhost:8080/"
        },
        "id": "WUXpTfUbN29w",
        "outputId": "37e3ab3a-662e-43f2-d1a6-74346eaf0afc"
      },
      "execution_count": null,
      "outputs": [
        {
          "output_type": "stream",
          "name": "stdout",
          "text": [
            "p\n",
            "r\n",
            "a\n",
            "c\n",
            "h\n",
            "i\n"
          ]
        }
      ]
    },
    {
      "cell_type": "code",
      "source": [
        "l = [1,2,\"p\",3,\"r\",\"a\",True,\"c\",3.6,\"h\",\"i\"]\n",
        "l1=[]\n",
        "for i in l:\n",
        "  if type(i)==str:\n",
        "    l1.append(i)\n",
        "print(l1)"
      ],
      "metadata": {
        "colab": {
          "base_uri": "https://localhost:8080/"
        },
        "id": "t_J2iYVXN4GG",
        "outputId": "79daf87a-2555-416d-ae03-5cacc4531536"
      },
      "execution_count": null,
      "outputs": [
        {
          "output_type": "stream",
          "name": "stdout",
          "text": [
            "['p', 'r', 'a', 'c', 'h', 'i']\n"
          ]
        }
      ]
    },
    {
      "cell_type": "code",
      "source": [
        "users = [\"Aakash\",\"Namita\",\"Vatsala\"]\n",
        "for user in users:\n",
        "  print(f\"sending email to {user}....\")"
      ],
      "metadata": {
        "colab": {
          "base_uri": "https://localhost:8080/"
        },
        "id": "GXs9allIPHPY",
        "outputId": "2773bfcc-0f32-4439-cb2e-ac6d914e9b3d"
      },
      "execution_count": null,
      "outputs": [
        {
          "output_type": "stream",
          "name": "stdout",
          "text": [
            "sending email to Aakash....\n",
            "sending email to Namita....\n",
            "sending email to Vatsala....\n"
          ]
        }
      ]
    },
    {
      "cell_type": "code",
      "source": [
        " Displaying available seats in a theater with seat numbers."
      ],
      "metadata": {
        "id": "J5wzKb3fQm5f"
      },
      "execution_count": null,
      "outputs": []
    },
    {
      "cell_type": "code",
      "source": [
        "abl_seat = {23,45,89,12}"
      ],
      "metadata": {
        "id": "juDjrz--REWi"
      },
      "execution_count": null,
      "outputs": []
    },
    {
      "cell_type": "code",
      "source": [
        "available_seats = {23,45,89,12}\n",
        "for seat in available_seats:\n",
        "    print(f\"Available Seats are:{seat}\")"
      ],
      "metadata": {
        "colab": {
          "base_uri": "https://localhost:8080/"
        },
        "id": "KqiMsZ4ZRS7Y",
        "outputId": "3707ef5b-5b86-49c7-e4cb-bf4a243f6b43"
      },
      "execution_count": null,
      "outputs": [
        {
          "output_type": "stream",
          "name": "stdout",
          "text": [
            "Available Seats are:89\n",
            "Available Seats are:12\n",
            "Available Seats are:45\n",
            "Available Seats are:23\n"
          ]
        }
      ]
    },
    {
      "cell_type": "code",
      "source": [
        "Scenario: Displaying product prices in a store.----> laptop-50000,smartphone-30000, tablet- 45000"
      ],
      "metadata": {
        "id": "pRN85TaXRr_c"
      },
      "execution_count": null,
      "outputs": []
    },
    {
      "cell_type": "code",
      "source": [
        "product = {\"laptop\":4500,\"smartphone\":8953,\"tablet\":7895}\n",
        "for product,price in product.items():\n",
        "    print(f\"the price of the {product} is {price}\")"
      ],
      "metadata": {
        "colab": {
          "base_uri": "https://localhost:8080/"
        },
        "id": "NoWme5VfS6fe",
        "outputId": "828e2d29-5f4f-4074-c4dc-2dc0e5d09e34"
      },
      "execution_count": null,
      "outputs": [
        {
          "output_type": "stream",
          "name": "stdout",
          "text": [
            "the price of the laptop is 4500\n",
            "the price of the smartphone is 8953\n",
            "the price of the tablet is 7895\n"
          ]
        }
      ]
    },
    {
      "cell_type": "code",
      "source": [
        "dict1 = {'laptop':50000, 'smartphone':30000, 'tablet':'45000'}\n",
        "for i, j in dict1.items():\n",
        "    print(i,j)"
      ],
      "metadata": {
        "colab": {
          "base_uri": "https://localhost:8080/"
        },
        "id": "UApJvcj6S9J6",
        "outputId": "01be5825-f5b5-4e0f-c904-f27c4d0d8eaf"
      },
      "execution_count": null,
      "outputs": [
        {
          "output_type": "stream",
          "name": "stdout",
          "text": [
            "laptop 50000\n",
            "smartphone 30000\n",
            "tablet 45000\n"
          ]
        }
      ]
    },
    {
      "cell_type": "code",
      "source": [
        "products = [\n",
        "    {\"Laptop\": 50000},\n",
        "    {\"Smartphone\" : 3000},\n",
        "    {\"Tablet\": 45000},\n",
        "]\n",
        "for i in products:\n",
        "    print(f\"Productand price are {i}\")"
      ],
      "metadata": {
        "colab": {
          "base_uri": "https://localhost:8080/"
        },
        "id": "ktRMPfb0TRez",
        "outputId": "556c21e7-bede-4acd-a40e-5b0e913fd6d9"
      },
      "execution_count": null,
      "outputs": [
        {
          "output_type": "stream",
          "name": "stdout",
          "text": [
            "Productand price are {'Laptop': 50000}\n",
            "Productand price are {'Smartphone': 3000}\n",
            "Productand price are {'Tablet': 45000}\n"
          ]
        }
      ]
    },
    {
      "cell_type": "code",
      "source": [
        "product = {\"laptop\":4500,\"smartphone\":8953,\"tablet\":7895}\n",
        "for products,price in product.items():\n",
        "    print(f\"the {products} and price is {price}\")"
      ],
      "metadata": {
        "colab": {
          "base_uri": "https://localhost:8080/"
        },
        "id": "k9igb0wETWuJ",
        "outputId": "5147668c-9236-432f-ce56-0f40d3426387"
      },
      "execution_count": null,
      "outputs": [
        {
          "output_type": "stream",
          "name": "stdout",
          "text": [
            "the laptop and price is 4500\n",
            "the smartphone and price is 8953\n",
            "the tablet and price is 7895\n"
          ]
        }
      ]
    },
    {
      "cell_type": "code",
      "source": [
        "product1 = {\"laptop\":4500,\"smartphone\":8953,\"tablet\":7895}"
      ],
      "metadata": {
        "id": "yL3RhkIbT2t4"
      },
      "execution_count": null,
      "outputs": []
    },
    {
      "cell_type": "code",
      "source": [
        "for product in product1.keys():\n",
        "  print(product,value)"
      ],
      "metadata": {
        "colab": {
          "base_uri": "https://localhost:8080/",
          "height": 158
        },
        "id": "N1kfHGVSVjh8",
        "outputId": "6c409e0c-68a2-404f-9a00-03c653abd378"
      },
      "execution_count": null,
      "outputs": [
        {
          "output_type": "error",
          "ename": "NameError",
          "evalue": "name 'value' is not defined",
          "traceback": [
            "\u001b[0;31m---------------------------------------------------------------------------\u001b[0m",
            "\u001b[0;31mNameError\u001b[0m                                 Traceback (most recent call last)",
            "\u001b[0;32m<ipython-input-59-23dc259fb0ce>\u001b[0m in \u001b[0;36m<cell line: 1>\u001b[0;34m()\u001b[0m\n\u001b[1;32m      1\u001b[0m \u001b[0;32mfor\u001b[0m \u001b[0mproduct\u001b[0m \u001b[0;32min\u001b[0m \u001b[0mproduct1\u001b[0m\u001b[0;34m.\u001b[0m\u001b[0mkeys\u001b[0m\u001b[0;34m(\u001b[0m\u001b[0;34m)\u001b[0m\u001b[0;34m:\u001b[0m\u001b[0;34m\u001b[0m\u001b[0;34m\u001b[0m\u001b[0m\n\u001b[0;32m----> 2\u001b[0;31m   \u001b[0mprint\u001b[0m\u001b[0;34m(\u001b[0m\u001b[0mproduct\u001b[0m\u001b[0;34m,\u001b[0m\u001b[0mvalue\u001b[0m\u001b[0;34m)\u001b[0m\u001b[0;34m\u001b[0m\u001b[0;34m\u001b[0m\u001b[0m\n\u001b[0m",
            "\u001b[0;31mNameError\u001b[0m: name 'value' is not defined"
          ]
        }
      ]
    },
    {
      "cell_type": "code",
      "source": [
        "l=[1,32,4]"
      ],
      "metadata": {
        "id": "a0k8n5TCVrcv"
      },
      "execution_count": null,
      "outputs": []
    },
    {
      "cell_type": "code",
      "source": [
        "for i,j in l:\n",
        "  print(i,j)"
      ],
      "metadata": {
        "colab": {
          "base_uri": "https://localhost:8080/",
          "height": 158
        },
        "id": "qOuoOms-V-XA",
        "outputId": "b9aa36fa-7ecc-443b-90c4-7ac9efcff871"
      },
      "execution_count": null,
      "outputs": [
        {
          "output_type": "error",
          "ename": "TypeError",
          "evalue": "cannot unpack non-iterable int object",
          "traceback": [
            "\u001b[0;31m---------------------------------------------------------------------------\u001b[0m",
            "\u001b[0;31mTypeError\u001b[0m                                 Traceback (most recent call last)",
            "\u001b[0;32m<ipython-input-55-f13a7198e4f2>\u001b[0m in \u001b[0;36m<cell line: 1>\u001b[0;34m()\u001b[0m\n\u001b[0;32m----> 1\u001b[0;31m \u001b[0;32mfor\u001b[0m \u001b[0mi\u001b[0m\u001b[0;34m,\u001b[0m\u001b[0mj\u001b[0m \u001b[0;32min\u001b[0m \u001b[0ml\u001b[0m\u001b[0;34m:\u001b[0m\u001b[0;34m\u001b[0m\u001b[0;34m\u001b[0m\u001b[0m\n\u001b[0m\u001b[1;32m      2\u001b[0m   \u001b[0mprint\u001b[0m\u001b[0;34m(\u001b[0m\u001b[0mi\u001b[0m\u001b[0;34m,\u001b[0m\u001b[0mj\u001b[0m\u001b[0;34m)\u001b[0m\u001b[0;34m\u001b[0m\u001b[0;34m\u001b[0m\u001b[0m\n",
            "\u001b[0;31mTypeError\u001b[0m: cannot unpack non-iterable int object"
          ]
        }
      ]
    },
    {
      "cell_type": "code",
      "source": [
        "Scenario: Checking in attendees for a conference."
      ],
      "metadata": {
        "id": "sNeAseeOWB4p"
      },
      "execution_count": null,
      "outputs": []
    },
    {
      "cell_type": "code",
      "source": [
        "name = {\n",
        "    \"Ama\": {\"Attendee\": \"Yes\"},\n",
        "    \"John\": {\"Attendee\": \"No\"},\n",
        "    \"Neha\": {\"Attendee\": \"Yes\"}\n",
        "}\n",
        "#name[\"Ama\"]"
      ],
      "metadata": {
        "id": "2zeQfq2YXWju"
      },
      "execution_count": null,
      "outputs": []
    },
    {
      "cell_type": "code",
      "source": [
        "name = {\n",
        "    \"Ama\": {\"Attendee\": \"Yes\"},\n",
        "    \"John\": {\"Attendee\": \"No\"},\n",
        "    \"Neha\": {\"Attendee\": \"Yes\"}\n",
        "}\n",
        "for i,j in name.items():\n",
        "    #print(i)\n",
        "    for k in j.values():\n",
        "      if k == \"Yes\":\n",
        "        print(i,k)"
      ],
      "metadata": {
        "colab": {
          "base_uri": "https://localhost:8080/"
        },
        "id": "7KgMoNhAYuVU",
        "outputId": "080c0b90-1401-4b24-c536-8f3832b5b4c0"
      },
      "execution_count": null,
      "outputs": [
        {
          "output_type": "stream",
          "name": "stdout",
          "text": [
            "Ama Yes\n",
            "Neha Yes\n"
          ]
        }
      ]
    },
    {
      "cell_type": "code",
      "source": [
        "attendees={\"id1\":[\"A\",23,\"present\"],\"id2\":[\"C\",34,\"absent\"],\"id3\":[\"B\",45,\"absent\"]}\n",
        "for i,j in attendees.items():\n",
        "    if \"present\" in j:\n",
        "        print(f\"{i} :{j}\")"
      ],
      "metadata": {
        "colab": {
          "base_uri": "https://localhost:8080/"
        },
        "id": "VSmqTmLIZP7d",
        "outputId": "19e64077-fb7b-443e-94c5-dca65ee8b34d"
      },
      "execution_count": null,
      "outputs": [
        {
          "output_type": "stream",
          "name": "stdout",
          "text": [
            "id1 :['A', 23, 'present']\n"
          ]
        }
      ]
    },
    {
      "cell_type": "code",
      "source": [
        "att={\"david\":\"y\",\"john\":\"n\",\"Meet\":\"n\"}\n",
        "for i,j in att.items():\n",
        "    if j!='n':\n",
        "        print(f\"name : {i} attending the event {j}\")"
      ],
      "metadata": {
        "colab": {
          "base_uri": "https://localhost:8080/"
        },
        "id": "UTSpOYlsZZXZ",
        "outputId": "2f5b3f2c-e2a2-460f-b7ef-b017fb2b2175"
      },
      "execution_count": null,
      "outputs": [
        {
          "output_type": "stream",
          "name": "stdout",
          "text": [
            "name : david attending the event y\n"
          ]
        }
      ]
    },
    {
      "cell_type": "code",
      "source": [
        "a = {\"ab1\": {\"cd\": \"yes\"}, \"ab2\": {\"cd\": \"no\"}, \"ab3\": {\"cd\": \"yes\"}}\n",
        "\n",
        "result = []\n",
        "\n",
        "for key, value in a.items():\n",
        "      if value.get(\"cd\") == \"yes\":\n",
        "         result.append(key)\n",
        "\n",
        "print(result)"
      ],
      "metadata": {
        "colab": {
          "base_uri": "https://localhost:8080/"
        },
        "id": "hmd5VCQ_aTfJ",
        "outputId": "71167439-9cd2-4a23-e272-e7dae46632c7"
      },
      "execution_count": null,
      "outputs": [
        {
          "output_type": "stream",
          "name": "stdout",
          "text": [
            "['ab1', 'ab3']\n"
          ]
        }
      ]
    },
    {
      "cell_type": "code",
      "source": [
        "a = {\n",
        "    \"Sofia\": {\"status\": \"attended\"},\n",
        "    \"Bob\": {\"status\": \"not attended\"},\n",
        "    \"Charlie\": {\"status\": \"attended\"}\n",
        "}\n",
        "\n",
        "for name, info in a.items():\n",
        "    print(f\"Attendee: {name}, Status: {info['status']}\")"
      ],
      "metadata": {
        "colab": {
          "base_uri": "https://localhost:8080/"
        },
        "id": "0wZgzLCYae6s",
        "outputId": "661cf603-cbd9-4423-853b-0a44fb718389"
      },
      "execution_count": null,
      "outputs": [
        {
          "output_type": "stream",
          "name": "stdout",
          "text": [
            "Attendee: Sofia, Status: attended\n",
            "Attendee: Bob, Status: not attended\n",
            "Attendee: Charlie, Status: attended\n"
          ]
        }
      ]
    },
    {
      "cell_type": "code",
      "source": [
        "a = {\n",
        "    \"Sofia\": {\"status\": \"attended\"},\n",
        "    \"Bob\": {\"status\": \"not attended\"},\n",
        "    \"Charlie\": {\"status\": \"attended\"}\n",
        "}\n",
        "\n",
        "\n",
        "for name, info in a.items():\n",
        "    if info['status'] == \"attended\":\n",
        "        print(f\"Attendee: {name}, Status: {info['status']}\")"
      ],
      "metadata": {
        "colab": {
          "base_uri": "https://localhost:8080/"
        },
        "id": "ZfxVL8M9alim",
        "outputId": "9aabe821-8b83-46ad-d683-3115b510cf53"
      },
      "execution_count": null,
      "outputs": [
        {
          "output_type": "stream",
          "name": "stdout",
          "text": [
            "Attendee: Sofia, Status: attended\n",
            "Attendee: Charlie, Status: attended\n"
          ]
        }
      ]
    },
    {
      "cell_type": "code",
      "source": [
        "a = {\"Raju\": {\"Attendee\": \"yes\"}, \"Sanju\": {\"Attendee\": \"no\"}, \"Teju\": {\"Attendee\": \"yes\"}}\n",
        "\n",
        "result = []\n",
        "\n",
        "for key, value in a.items():\n",
        "      if value.get(\"Attendee\") == \"yes\":\n",
        "         result.append(key)\n",
        "\n",
        "print(result)"
      ],
      "metadata": {
        "colab": {
          "base_uri": "https://localhost:8080/"
        },
        "id": "9oKObqh0ar3y",
        "outputId": "f0a38af7-9974-416c-8de3-fadf560a1089"
      },
      "execution_count": null,
      "outputs": [
        {
          "output_type": "stream",
          "name": "stdout",
          "text": [
            "['Raju', 'Teju']\n"
          ]
        }
      ]
    },
    {
      "cell_type": "code",
      "source": [
        " name = \"prachi\""
      ],
      "metadata": {
        "id": "KPM8wXrdazl9"
      },
      "execution_count": null,
      "outputs": []
    },
    {
      "cell_type": "code",
      "source": [
        "isinstance(name,int)"
      ],
      "metadata": {
        "colab": {
          "base_uri": "https://localhost:8080/"
        },
        "id": "5VYEUUOFbRFe",
        "outputId": "6130aeca-3a0a-4a0d-b68f-131b5a287c6e"
      },
      "execution_count": null,
      "outputs": [
        {
          "output_type": "execute_result",
          "data": {
            "text/plain": [
              "False"
            ]
          },
          "metadata": {},
          "execution_count": 78
        }
      ]
    },
    {
      "cell_type": "code",
      "source": [
        "l = [1,2,3,'p','q']\n",
        "l1=[]\n",
        "l2 =[]"
      ],
      "metadata": {
        "id": "z2T36omwbUQ_"
      },
      "execution_count": null,
      "outputs": []
    },
    {
      "cell_type": "code",
      "source": [
        "for i in l:\n",
        "  if isinstance(i,str):\n",
        "    l1.append(i)"
      ],
      "metadata": {
        "id": "hjUHXL5ibbTc"
      },
      "execution_count": null,
      "outputs": []
    },
    {
      "cell_type": "code",
      "source": [
        "l1"
      ],
      "metadata": {
        "colab": {
          "base_uri": "https://localhost:8080/"
        },
        "id": "qGbhNNqxblCj",
        "outputId": "0b50ef7a-0db4-494d-a43d-0a19eca62da4"
      },
      "execution_count": null,
      "outputs": [
        {
          "output_type": "execute_result",
          "data": {
            "text/plain": [
              "['p', 'q']"
            ]
          },
          "metadata": {},
          "execution_count": 83
        }
      ]
    },
    {
      "cell_type": "code",
      "source": [
        "for i in l:\n",
        "  if isinstance(i,int):\n",
        "    l2.append(i)"
      ],
      "metadata": {
        "id": "NOa949MxbnY0"
      },
      "execution_count": null,
      "outputs": []
    },
    {
      "cell_type": "code",
      "source": [
        "l2"
      ],
      "metadata": {
        "colab": {
          "base_uri": "https://localhost:8080/"
        },
        "id": "IXNgBjSub67N",
        "outputId": "794cf03f-61e8-4568-c9e6-184f6d14a313"
      },
      "execution_count": null,
      "outputs": [
        {
          "output_type": "execute_result",
          "data": {
            "text/plain": [
              "[1, 2, 3]"
            ]
          },
          "metadata": {},
          "execution_count": 86
        }
      ]
    },
    {
      "cell_type": "code",
      "source": [
        "isinstance(\"prachi\",int) #---> 0,1"
      ],
      "metadata": {
        "colab": {
          "base_uri": "https://localhost:8080/"
        },
        "id": "k-06TIiIb8G4",
        "outputId": "e231e927-fe2b-4f7d-f8aa-d25c2033eb64"
      },
      "execution_count": null,
      "outputs": [
        {
          "output_type": "execute_result",
          "data": {
            "text/plain": [
              "False"
            ]
          },
          "metadata": {},
          "execution_count": 91
        }
      ]
    },
    {
      "cell_type": "code",
      "source": [
        "l = [1,2,\"p\",\"r\",'a']\n",
        "l1=[]"
      ],
      "metadata": {
        "id": "NezL5IPUcRyJ"
      },
      "execution_count": null,
      "outputs": []
    },
    {
      "cell_type": "code",
      "source": [
        "for i in l:\n",
        "  if isinstance(i,str):\n",
        "    l1.append(i)"
      ],
      "metadata": {
        "id": "sjnNRIJ4c8t7"
      },
      "execution_count": null,
      "outputs": []
    },
    {
      "cell_type": "code",
      "source": [
        "l1"
      ],
      "metadata": {
        "colab": {
          "base_uri": "https://localhost:8080/"
        },
        "id": "07OIB2sxdJtd",
        "outputId": "279fbc34-7bcf-40e4-ec3e-f45e249d7a9e"
      },
      "execution_count": null,
      "outputs": [
        {
          "output_type": "execute_result",
          "data": {
            "text/plain": [
              "['p', 'r', 'a']"
            ]
          },
          "metadata": {},
          "execution_count": 97
        }
      ]
    },
    {
      "cell_type": "code",
      "source": [
        "list_p = {\"name\":[\"prachi\",\"Anand\",\"Nandita\"],\"age\":[23,45,67],\"gmail\":[\"abc@gmail.com\",\"xyz@gmail.com\",\"pqr@gmail.com\"]}"
      ],
      "metadata": {
        "id": "_AB8Ym11dSK8"
      },
      "execution_count": null,
      "outputs": []
    },
    {
      "cell_type": "code",
      "source": [
        "for j in list_p.values():\n",
        "  #print(j)\n",
        "  for i in j:\n",
        "    #print(i)\n",
        "    if isinstance(i,str):\n",
        "      print(i)\n",
        "    else:\n",
        "      print(f\"no strings found {i}\")\n",
        "\n",
        "\n"
      ],
      "metadata": {
        "colab": {
          "base_uri": "https://localhost:8080/"
        },
        "id": "Dpsb05aBdt8v",
        "outputId": "4d4df81e-c0c3-4ce2-b225-bad31eeb4fb1"
      },
      "execution_count": null,
      "outputs": [
        {
          "output_type": "stream",
          "name": "stdout",
          "text": [
            "prachi\n",
            "Anand\n",
            "Nandita\n",
            "no strings found 23\n",
            "no strings found 45\n",
            "no strings found 67\n",
            "abc@gmail.com\n",
            "xyz@gmail.com\n",
            "pqr@gmail.com\n"
          ]
        }
      ]
    },
    {
      "cell_type": "code",
      "source": [
        "s = \"\"\n",
        "print(s.isalnum())"
      ],
      "metadata": {
        "colab": {
          "base_uri": "https://localhost:8080/"
        },
        "id": "ramxOaxxd-xm",
        "outputId": "cca34a9a-ad5d-408b-bdb9-11b728918b77"
      },
      "execution_count": null,
      "outputs": [
        {
          "output_type": "stream",
          "name": "stdout",
          "text": [
            "False\n"
          ]
        }
      ]
    },
    {
      "cell_type": "code",
      "source": [],
      "metadata": {
        "id": "-9Jf03ezhKE3"
      },
      "execution_count": null,
      "outputs": []
    }
  ]
}