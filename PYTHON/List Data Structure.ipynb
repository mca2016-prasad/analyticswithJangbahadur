{
 "cells": [
  {
   "cell_type": "code",
   "execution_count": 1,
   "id": "8dbc9397-b753-4277-94b5-810c89b4df42",
   "metadata": {},
   "outputs": [],
   "source": [
    "demo_list=[]"
   ]
  },
  {
   "cell_type": "code",
   "execution_count": 2,
   "id": "150c1c87-fd72-46e1-b4d0-606f02dfef1e",
   "metadata": {},
   "outputs": [
    {
     "name": "stdout",
     "output_type": "stream",
     "text": [
      "[]\n"
     ]
    }
   ],
   "source": [
    "print(demo_list)"
   ]
  },
  {
   "cell_type": "code",
   "execution_count": 3,
   "id": "9209560e-c1b8-45b2-8658-37430e1df662",
   "metadata": {},
   "outputs": [
    {
     "data": {
      "text/plain": [
       "list"
      ]
     },
     "execution_count": 3,
     "metadata": {},
     "output_type": "execute_result"
    }
   ],
   "source": [
    "type(demo_list)"
   ]
  },
  {
   "cell_type": "code",
   "execution_count": 4,
   "id": "1f8ee45d-cb88-4e75-8170-205b212d53bf",
   "metadata": {},
   "outputs": [],
   "source": [
    "list2=[1,2,3,4,5]"
   ]
  },
  {
   "cell_type": "code",
   "execution_count": 5,
   "id": "f484581a-3381-45ac-8314-dca17e37a4d6",
   "metadata": {},
   "outputs": [
    {
     "data": {
      "text/plain": [
       "[1, 2, 3, 4, 5]"
      ]
     },
     "execution_count": 5,
     "metadata": {},
     "output_type": "execute_result"
    }
   ],
   "source": [
    "list2"
   ]
  },
  {
   "cell_type": "code",
   "execution_count": 6,
   "id": "1bf1be5e-7748-47ea-b73e-578c53231f50",
   "metadata": {},
   "outputs": [],
   "source": [
    "list3 = ['JANG',1,2,3,'HELLO',5,3]"
   ]
  },
  {
   "cell_type": "code",
   "execution_count": 7,
   "id": "8288a463-1084-41ed-bd0c-5ef77c99fa33",
   "metadata": {},
   "outputs": [
    {
     "data": {
      "text/plain": [
       "['JANG', 1, 2, 3, 'HELLO', 5, 3]"
      ]
     },
     "execution_count": 7,
     "metadata": {},
     "output_type": "execute_result"
    }
   ],
   "source": [
    "list3"
   ]
  },
  {
   "cell_type": "code",
   "execution_count": 8,
   "id": "19ef6be5-b45a-4f2d-ae03-07b4156da6c3",
   "metadata": {},
   "outputs": [
    {
     "data": {
      "text/plain": [
       "'JANG'"
      ]
     },
     "execution_count": 8,
     "metadata": {},
     "output_type": "execute_result"
    }
   ],
   "source": [
    "list3[0]"
   ]
  },
  {
   "cell_type": "code",
   "execution_count": 9,
   "id": "caf8f8eb-cd9e-4d09-b600-0f5db2a65a74",
   "metadata": {},
   "outputs": [
    {
     "data": {
      "text/plain": [
       "5"
      ]
     },
     "execution_count": 9,
     "metadata": {},
     "output_type": "execute_result"
    }
   ],
   "source": [
    "list3[-2]"
   ]
  },
  {
   "cell_type": "code",
   "execution_count": 10,
   "id": "32a3ade0-13e5-485d-822c-149a1a09dc22",
   "metadata": {},
   "outputs": [
    {
     "data": {
      "text/plain": [
       "'JANG'"
      ]
     },
     "execution_count": 10,
     "metadata": {},
     "output_type": "execute_result"
    }
   ],
   "source": [
    "list3[-0]"
   ]
  },
  {
   "cell_type": "code",
   "execution_count": 11,
   "id": "5b12399c-c174-4c15-afda-eb0c85db5dae",
   "metadata": {},
   "outputs": [
    {
     "data": {
      "text/plain": [
       "2"
      ]
     },
     "execution_count": 11,
     "metadata": {},
     "output_type": "execute_result"
    }
   ],
   "source": [
    "list3[-5]"
   ]
  },
  {
   "cell_type": "code",
   "execution_count": 12,
   "id": "66a91cc9-0beb-490f-9ec6-09d10b457837",
   "metadata": {},
   "outputs": [
    {
     "data": {
      "text/plain": [
       "range(0, 10)"
      ]
     },
     "execution_count": 12,
     "metadata": {},
     "output_type": "execute_result"
    }
   ],
   "source": [
    "range(10)"
   ]
  },
  {
   "cell_type": "code",
   "execution_count": 13,
   "id": "e4c95937-9cd8-4a9f-8215-fd16d65768ba",
   "metadata": {},
   "outputs": [
    {
     "data": {
      "text/plain": [
       "[0, 1, 2, 3, 4, 5, 6, 7, 8, 9]"
      ]
     },
     "execution_count": 13,
     "metadata": {},
     "output_type": "execute_result"
    }
   ],
   "source": [
    "list(range(10))"
   ]
  },
  {
   "cell_type": "code",
   "execution_count": 14,
   "id": "d0ac8870-b018-4b6d-b8d7-c9b0882f817c",
   "metadata": {},
   "outputs": [
    {
     "data": {
      "text/plain": [
       "[2, 4, 6, 8]"
      ]
     },
     "execution_count": 14,
     "metadata": {},
     "output_type": "execute_result"
    }
   ],
   "source": [
    "list(range(2,10,2))"
   ]
  },
  {
   "cell_type": "code",
   "execution_count": 15,
   "id": "9499f6d4-68e7-4ca8-82ae-8fbd9a7a2015",
   "metadata": {},
   "outputs": [
    {
     "data": {
      "text/plain": [
       "[3, 7, 11, 15, 19, 23, 27]"
      ]
     },
     "execution_count": 15,
     "metadata": {},
     "output_type": "execute_result"
    }
   ],
   "source": [
    "list(range(3,30,4))"
   ]
  },
  {
   "cell_type": "code",
   "execution_count": 16,
   "id": "16f78048-7287-4733-975e-a08a6086c65c",
   "metadata": {},
   "outputs": [
    {
     "data": {
      "text/plain": [
       "[-8, -6, -4, -2]"
      ]
     },
     "execution_count": 16,
     "metadata": {},
     "output_type": "execute_result"
    }
   ],
   "source": [
    "list(range(-8,-1,2))"
   ]
  },
  {
   "cell_type": "code",
   "execution_count": 19,
   "id": "e1440900-7f8c-4180-b7b8-3f5341ec4182",
   "metadata": {},
   "outputs": [
    {
     "name": "stdout",
     "output_type": "stream",
     "text": [
      "Coming inside the loop ---->  1  times\n",
      "i is --->  0\n",
      "Coming inside the loop ---->  2  times\n",
      "i is --->  1\n",
      "Coming inside the loop ---->  3  times\n",
      "i is --->  2\n",
      "Coming inside the loop ---->  4  times\n",
      "i is --->  3\n",
      "Coming inside the loop ---->  5  times\n",
      "i is --->  4\n"
     ]
    }
   ],
   "source": [
    "for i in range(5):\n",
    "    print(\"Coming inside the loop ----> \" , i + 1 , \" times\")\n",
    "    print(\"i is ---> \", i)"
   ]
  },
  {
   "cell_type": "markdown",
   "id": "729484ab-685c-4281-ac4e-16cf84fbb64b",
   "metadata": {},
   "source": [
    "<h1> LIST DATA STRUCTURE</h1>"
   ]
  },
  {
   "cell_type": "code",
   "execution_count": 1,
   "id": "38e1bc68-bb36-4a59-96d7-c3ac3760c8e4",
   "metadata": {},
   "outputs": [],
   "source": [
    "demo_list = []"
   ]
  },
  {
   "cell_type": "code",
   "execution_count": 2,
   "id": "dca71f08-7052-4f0e-b6fc-94f507897f03",
   "metadata": {},
   "outputs": [
    {
     "name": "stdout",
     "output_type": "stream",
     "text": [
      "[]\n"
     ]
    }
   ],
   "source": [
    "print(demo_list)"
   ]
  },
  {
   "cell_type": "code",
   "execution_count": 3,
   "id": "891a2172-0782-4771-af58-21dce2f2c182",
   "metadata": {},
   "outputs": [
    {
     "data": {
      "text/plain": [
       "list"
      ]
     },
     "execution_count": 3,
     "metadata": {},
     "output_type": "execute_result"
    }
   ],
   "source": [
    "type(demo_list)"
   ]
  },
  {
   "cell_type": "code",
   "execution_count": 11,
   "id": "e58642b0-8a8a-49e2-9828-40103bc5ea82",
   "metadata": {},
   "outputs": [],
   "source": [
    "list2 = [1,2,3,4,5]"
   ]
  },
  {
   "cell_type": "code",
   "execution_count": 12,
   "id": "4a51e89d-4d58-4948-9caf-8c5250bf7daa",
   "metadata": {},
   "outputs": [
    {
     "data": {
      "text/plain": [
       "[1, 2, 3, 4, 5]"
      ]
     },
     "execution_count": 12,
     "metadata": {},
     "output_type": "execute_result"
    }
   ],
   "source": [
    "list2"
   ]
  },
  {
   "cell_type": "code",
   "execution_count": 14,
   "id": "d9848c2c-b001-4239-b743-9b5794cfd7b4",
   "metadata": {},
   "outputs": [],
   "source": [
    "list3 = ['Jang', 1,2,3,'hello', 4.5]"
   ]
  },
  {
   "cell_type": "code",
   "execution_count": 15,
   "id": "f433832e-edf9-456a-80ff-28e8dda4d803",
   "metadata": {},
   "outputs": [
    {
     "data": {
      "text/plain": [
       "['Jang', 1, 2, 3, 'hello', 4.5]"
      ]
     },
     "execution_count": 15,
     "metadata": {},
     "output_type": "execute_result"
    }
   ],
   "source": [
    "list3"
   ]
  },
  {
   "cell_type": "code",
   "execution_count": 16,
   "id": "09c7e2c8-3972-4b8c-ad95-64917074d979",
   "metadata": {},
   "outputs": [
    {
     "data": {
      "text/plain": [
       "'Jang'"
      ]
     },
     "execution_count": 16,
     "metadata": {},
     "output_type": "execute_result"
    }
   ],
   "source": [
    "list3[0]"
   ]
  },
  {
   "cell_type": "code",
   "execution_count": 17,
   "id": "bc722be4-e951-49e4-9af5-ce4c3c40f97e",
   "metadata": {},
   "outputs": [
    {
     "data": {
      "text/plain": [
       "4.5"
      ]
     },
     "execution_count": 17,
     "metadata": {},
     "output_type": "execute_result"
    }
   ],
   "source": [
    "list3[-1]"
   ]
  },
  {
   "cell_type": "code",
   "execution_count": 18,
   "id": "3ae288a3-8c38-4379-bbd9-14a40f10bfdd",
   "metadata": {},
   "outputs": [
    {
     "data": {
      "text/plain": [
       "4.5"
      ]
     },
     "execution_count": 18,
     "metadata": {},
     "output_type": "execute_result"
    }
   ],
   "source": [
    "list3[5]"
   ]
  },
  {
   "cell_type": "code",
   "execution_count": 19,
   "id": "72a99fa5-1df5-43ee-9bae-5c4b14f3b930",
   "metadata": {},
   "outputs": [
    {
     "data": {
      "text/plain": [
       "1"
      ]
     },
     "execution_count": 19,
     "metadata": {},
     "output_type": "execute_result"
    }
   ],
   "source": [
    "list3[-5]"
   ]
  },
  {
   "cell_type": "code",
   "execution_count": 20,
   "id": "0674972a-0b0d-4b9f-a87b-24719743877f",
   "metadata": {},
   "outputs": [],
   "source": [
    "list4 =[1,2,3,4,5,6,7,\"hello\",\"a\",\"hi\",\"India\",3,0,7]"
   ]
  },
  {
   "cell_type": "code",
   "execution_count": 21,
   "id": "43bc65aa-243a-44fe-9c89-a8d8e039c2ac",
   "metadata": {},
   "outputs": [
    {
     "data": {
      "text/plain": [
       "[1, 2, 3, 4, 5, 6, 7, 'hello', 'a', 'hi', 'India', 3, 0, 7]"
      ]
     },
     "execution_count": 21,
     "metadata": {},
     "output_type": "execute_result"
    }
   ],
   "source": [
    "list4"
   ]
  },
  {
   "cell_type": "code",
   "execution_count": 22,
   "id": "4ea0d0a9-719c-4f19-8d6d-3a4aa891af43",
   "metadata": {},
   "outputs": [
    {
     "data": {
      "text/plain": [
       "'India'"
      ]
     },
     "execution_count": 22,
     "metadata": {},
     "output_type": "execute_result"
    }
   ],
   "source": [
    "list4[-4]"
   ]
  },
  {
   "cell_type": "code",
   "execution_count": 23,
   "id": "37b77402-9bc8-49b3-b851-a3a39b69019a",
   "metadata": {},
   "outputs": [],
   "source": [
    "list4[-4]=\"USA\""
   ]
  },
  {
   "cell_type": "code",
   "execution_count": 24,
   "id": "5f65d7c7-6637-44db-a6f7-2f21e1f7d4be",
   "metadata": {},
   "outputs": [
    {
     "data": {
      "text/plain": [
       "[1, 2, 3, 4, 5, 6, 7, 'hello', 'a', 'hi', 'USA', 3, 0, 7]"
      ]
     },
     "execution_count": 24,
     "metadata": {},
     "output_type": "execute_result"
    }
   ],
   "source": [
    "list4"
   ]
  },
  {
   "cell_type": "code",
   "execution_count": 26,
   "id": "065481ec-4595-4f3d-834a-8de7c26713b9",
   "metadata": {},
   "outputs": [
    {
     "data": {
      "text/plain": [
       "14"
      ]
     },
     "execution_count": 26,
     "metadata": {},
     "output_type": "execute_result"
    }
   ],
   "source": [
    "len(list4)   # use for check length of list"
   ]
  },
  {
   "cell_type": "code",
   "execution_count": 28,
   "id": "0f727090-fcc9-4c31-b5e6-4c0dae4d8ca8",
   "metadata": {},
   "outputs": [
    {
     "data": {
      "text/plain": [
       "[7, 0, 3, 'USA', 'hi', 'a', 'hello', 7, 6, 5, 4, 3, 2, 1]"
      ]
     },
     "execution_count": 28,
     "metadata": {},
     "output_type": "execute_result"
    }
   ],
   "source": [
    "list4[::-1]   # use for check reverst of list"
   ]
  },
  {
   "cell_type": "code",
   "execution_count": 29,
   "id": "4d20a404-68c2-46ec-bc8b-cc687fbd0fdb",
   "metadata": {},
   "outputs": [
    {
     "data": {
      "text/plain": [
       "[4, 5, 6, 7, 'hello', 'a', 'hi', 'USA', 3, 0, 7]"
      ]
     },
     "execution_count": 29,
     "metadata": {},
     "output_type": "execute_result"
    }
   ],
   "source": [
    "list4[3:]             #access three index"
   ]
  },
  {
   "cell_type": "code",
   "execution_count": 39,
   "id": "69626889-cb27-4bb8-93d1-0e9f5bfe39ff",
   "metadata": {},
   "outputs": [
    {
     "data": {
      "text/plain": [
       "[7, 3, 'hi', 'hello', 6, 4, 2]"
      ]
     },
     "execution_count": 39,
     "metadata": {},
     "output_type": "execute_result"
    }
   ],
   "source": [
    "list4[::-2]"
   ]
  },
  {
   "cell_type": "code",
   "execution_count": 38,
   "id": "6474179f-7784-4405-a304-15a7272dd1b4",
   "metadata": {},
   "outputs": [
    {
     "data": {
      "text/plain": [
       "[1, 2, 3, 4, 5]"
      ]
     },
     "execution_count": 38,
     "metadata": {},
     "output_type": "execute_result"
    }
   ],
   "source": [
    "list4[:5]"
   ]
  },
  {
   "cell_type": "code",
   "execution_count": 42,
   "id": "84400355-a492-42cb-9196-70cc68154b7d",
   "metadata": {},
   "outputs": [
    {
     "data": {
      "text/plain": [
       "[1, 2]"
      ]
     },
     "execution_count": 42,
     "metadata": {},
     "output_type": "execute_result"
    }
   ],
   "source": [
    "list4[:2]"
   ]
  },
  {
   "cell_type": "code",
   "execution_count": 43,
   "id": "aaa728d6-23a9-4071-a0d3-26d904695514",
   "metadata": {},
   "outputs": [
    {
     "data": {
      "text/plain": [
       "[7, 3, 'hi', 'hello', 6, 4, 2]"
      ]
     },
     "execution_count": 43,
     "metadata": {},
     "output_type": "execute_result"
    }
   ],
   "source": [
    "list4[::-2]"
   ]
  },
  {
   "cell_type": "code",
   "execution_count": 44,
   "id": "38a87ac9-bbeb-4352-b5ae-2b68750128ff",
   "metadata": {},
   "outputs": [],
   "source": [
    "list5 =[1,2,3,4,5,6,7,\"hello\",\"a\",\"hi\",\"India\",3,0,7]"
   ]
  },
  {
   "cell_type": "code",
   "execution_count": 45,
   "id": "7352112c-7c45-4bfc-8284-5a678b4db9c0",
   "metadata": {},
   "outputs": [
    {
     "data": {
      "text/plain": [
       "[1, 2, 3, 4, 5]"
      ]
     },
     "execution_count": 45,
     "metadata": {},
     "output_type": "execute_result"
    }
   ],
   "source": [
    "list5[:5]"
   ]
  },
  {
   "cell_type": "code",
   "execution_count": 46,
   "id": "60f8bf0d-5ffe-4a87-af09-e71a3e198ca2",
   "metadata": {},
   "outputs": [
    {
     "data": {
      "text/plain": [
       "[4, 5, 6, 7, 'hello', 'a', 'hi', 'India', 3, 0, 7]"
      ]
     },
     "execution_count": 46,
     "metadata": {},
     "output_type": "execute_result"
    }
   ],
   "source": [
    "list5[3:]  # 1,2,3 start  from 4 after 3 index"
   ]
  },
  {
   "cell_type": "code",
   "execution_count": 47,
   "id": "186ad185-f0e9-47e2-8aeb-b4ad83520834",
   "metadata": {},
   "outputs": [
    {
     "data": {
      "text/plain": [
       "[1, 2, 3, 4, 5, 6, 7]"
      ]
     },
     "execution_count": 47,
     "metadata": {},
     "output_type": "execute_result"
    }
   ],
   "source": [
    "list5[:7]  # from index 0 to index 6"
   ]
  },
  {
   "cell_type": "code",
   "execution_count": 48,
   "id": "3e7ffe96-27b1-4a99-919b-c66dfacbdb53",
   "metadata": {},
   "outputs": [
    {
     "data": {
      "text/plain": [
       "[4, 5, 6, 7]"
      ]
     },
     "execution_count": 48,
     "metadata": {},
     "output_type": "execute_result"
    }
   ],
   "source": [
    "list5[3:7] "
   ]
  },
  {
   "cell_type": "code",
   "execution_count": 55,
   "id": "637eae09-5d4e-444b-b834-3ac2fb863c09",
   "metadata": {},
   "outputs": [],
   "source": [
    "list5 =[1,2,3,4,5,6,7,\"hello\",\"a\",\"hi\",\"India\",3,0,7]"
   ]
  },
  {
   "cell_type": "code",
   "execution_count": 51,
   "id": "5e2aa5ed-3625-49f1-8f27-cebea19672bb",
   "metadata": {},
   "outputs": [
    {
     "data": {
      "text/plain": [
       "[4, 5, 6, 7]"
      ]
     },
     "execution_count": 51,
     "metadata": {},
     "output_type": "execute_result"
    }
   ],
   "source": [
    "list5[3:7]  # 4 to 7"
   ]
  },
  {
   "cell_type": "code",
   "execution_count": 54,
   "id": "c0d43dfe-3808-418d-9bfa-84cff70515ba",
   "metadata": {},
   "outputs": [
    {
     "data": {
      "text/plain": [
       "[]"
      ]
     },
     "execution_count": 54,
     "metadata": {},
     "output_type": "execute_result"
    }
   ],
   "source": [
    "list5[-3:-7]"
   ]
  },
  {
   "cell_type": "code",
   "execution_count": 57,
   "id": "d715e5d9-e224-4e63-980a-dff18e4c4c88",
   "metadata": {},
   "outputs": [],
   "source": [
    "list6 =[1,2,3,4,5,6,7,\"hello\",\"a\",\"hi\",\"India\",3,0,7]"
   ]
  },
  {
   "cell_type": "code",
   "execution_count": 58,
   "id": "406e1d6f-0992-4da1-b252-cdc6b3063afd",
   "metadata": {},
   "outputs": [
    {
     "data": {
      "text/plain": [
       "[]"
      ]
     },
     "execution_count": 58,
     "metadata": {},
     "output_type": "execute_result"
    }
   ],
   "source": [
    "list6[-3:-7]  # not goto back "
   ]
  },
  {
   "cell_type": "code",
   "execution_count": 59,
   "id": "8efdb4f6-1c5c-4da9-ad6e-1541b36c1eb7",
   "metadata": {},
   "outputs": [
    {
     "data": {
      "text/plain": [
       "['hello', 'a', 'hi', 'India']"
      ]
     },
     "execution_count": 59,
     "metadata": {},
     "output_type": "execute_result"
    }
   ],
   "source": [
    "list6[-7:-3]"
   ]
  },
  {
   "cell_type": "code",
   "execution_count": 62,
   "id": "31f0f3e1-67d7-4a54-9b90-5b6622bdd13a",
   "metadata": {},
   "outputs": [],
   "source": [
    "listl = list2 *2  #repeat two times"
   ]
  },
  {
   "cell_type": "code",
   "execution_count": 63,
   "id": "a8ca0ede-76c9-469b-a6c7-57a4d8026102",
   "metadata": {},
   "outputs": [
    {
     "data": {
      "text/plain": [
       "[1, 2, 3, 4, 5, 1, 2, 3, 4, 5]"
      ]
     },
     "execution_count": 63,
     "metadata": {},
     "output_type": "execute_result"
    }
   ],
   "source": [
    "listl"
   ]
  },
  {
   "cell_type": "code",
   "execution_count": 65,
   "id": "9fcef153-c64d-4e18-9ca5-cb9edc0a9243",
   "metadata": {},
   "outputs": [
    {
     "data": {
      "text/plain": [
       "[0, 0, 0, 0, 0]"
      ]
     },
     "execution_count": 65,
     "metadata": {},
     "output_type": "execute_result"
    }
   ],
   "source": [
    "[0] *5 # repeat the element zero"
   ]
  },
  {
   "cell_type": "code",
   "execution_count": 66,
   "id": "08b5014d-52a8-4004-8634-0973821312b9",
   "metadata": {},
   "outputs": [
    {
     "data": {
      "text/plain": [
       "[1, 2, 3, 4, 5, 6, 7, 'hello', 'a', 'hi', 'India', 3, 0, 7]"
      ]
     },
     "execution_count": 66,
     "metadata": {},
     "output_type": "execute_result"
    }
   ],
   "source": [
    "list6[:]"
   ]
  },
  {
   "cell_type": "code",
   "execution_count": 70,
   "id": "3da86247-7549-457f-9221-1d730620f52e",
   "metadata": {},
   "outputs": [
    {
     "name": "stdout",
     "output_type": "stream",
     "text": [
      "1\n",
      "2\n",
      "3\n",
      "4\n",
      "5\n",
      "6\n",
      "7\n",
      "hello\n",
      "a\n",
      "hi\n",
      "India\n",
      "3\n",
      "0\n",
      "7\n"
     ]
    }
   ],
   "source": [
    "for element in list6:\n",
    "    print(element)"
   ]
  },
  {
   "cell_type": "code",
   "execution_count": 71,
   "id": "cd8fde83-821b-47b4-952d-a800d7f7aec3",
   "metadata": {},
   "outputs": [
    {
     "data": {
      "text/plain": [
       "[1, 2, 3, 4, 5, 6, 7, 'hello', 'a', 'hi', 'India', 3, 0, 7]"
      ]
     },
     "execution_count": 71,
     "metadata": {},
     "output_type": "execute_result"
    }
   ],
   "source": [
    "list6[:]"
   ]
  },
  {
   "cell_type": "code",
   "execution_count": 72,
   "id": "7848a278-a926-4ab5-a3c5-5e7d1b2cc568",
   "metadata": {},
   "outputs": [
    {
     "data": {
      "text/plain": [
       "[1, 2, 3, 4, 5, 6, 7, 'hello', 'a', 'hi', 'India', 3, 0, 7]"
      ]
     },
     "execution_count": 72,
     "metadata": {},
     "output_type": "execute_result"
    }
   ],
   "source": [
    "list6"
   ]
  },
  {
   "cell_type": "code",
   "execution_count": 73,
   "id": "c6bd2c1f-b1c9-48f2-85e1-7c20b5e1b10f",
   "metadata": {},
   "outputs": [
    {
     "data": {
      "text/plain": [
       "True"
      ]
     },
     "execution_count": 73,
     "metadata": {},
     "output_type": "execute_result"
    }
   ],
   "source": [
    "7 in list6"
   ]
  },
  {
   "cell_type": "code",
   "execution_count": 75,
   "id": "41c07868-6450-4a07-8e1a-a9a19ad70429",
   "metadata": {},
   "outputs": [
    {
     "name": "stdout",
     "output_type": "stream",
     "text": [
      "( 0 ) element ----->  1\n",
      "( 1 ) element ----->  2\n",
      "( 2 ) element ----->  3\n",
      "( 3 ) element ----->  4\n",
      "( 4 ) element ----->  5\n",
      "( 5 ) element ----->  6\n",
      "( 6 ) element ----->  7\n",
      "( 7 ) element ----->  hello\n",
      "( 8 ) element ----->  a\n",
      "( 9 ) element ----->  hi\n",
      "( 10 ) element ----->  India\n",
      "( 11 ) element ----->  3\n",
      "( 12 ) element ----->  0\n",
      "( 13 ) element ----->  7\n"
     ]
    }
   ],
   "source": [
    "for i in range(len(list6)):\n",
    "    print( \"(\", i, \") element -----> \", list6[i])"
   ]
  },
  {
   "cell_type": "code",
   "execution_count": null,
   "id": "244d6a1e-0f6d-4ce3-911e-89b7f823a183",
   "metadata": {},
   "outputs": [],
   "source": []
  },
  {
   "cell_type": "code",
   "execution_count": null,
   "id": "dcf99314-307f-4e3d-bb2e-a8ad8af7a3d6",
   "metadata": {},
   "outputs": [],
   "source": []
  },
  {
   "cell_type": "code",
   "execution_count": null,
   "id": "3f1279c8-341b-4494-a526-8608a447e9e5",
   "metadata": {},
   "outputs": [],
   "source": []
  },
  {
   "cell_type": "code",
   "execution_count": null,
   "id": "b2f96b9b-4835-4829-8f58-c4660d923470",
   "metadata": {},
   "outputs": [],
   "source": []
  },
  {
   "cell_type": "code",
   "execution_count": null,
   "id": "26136520-9570-42ea-809c-89c001136e91",
   "metadata": {},
   "outputs": [],
   "source": []
  },
  {
   "cell_type": "code",
   "execution_count": null,
   "id": "34de7909-2bc0-4fee-b68f-1b09a63f1a0d",
   "metadata": {},
   "outputs": [],
   "source": []
  },
  {
   "cell_type": "code",
   "execution_count": null,
   "id": "57aa6362-c2dc-47d2-a635-013b008891d3",
   "metadata": {},
   "outputs": [],
   "source": []
  },
  {
   "cell_type": "code",
   "execution_count": null,
   "id": "61420b47-a844-4693-854b-289a1ac55ff0",
   "metadata": {},
   "outputs": [],
   "source": []
  },
  {
   "cell_type": "code",
   "execution_count": null,
   "id": "ca9eb254-2396-4209-b614-bda50b7bd865",
   "metadata": {},
   "outputs": [],
   "source": []
  },
  {
   "cell_type": "code",
   "execution_count": null,
   "id": "8205ebf7-c918-4dd7-82d6-52cea8196b25",
   "metadata": {},
   "outputs": [],
   "source": []
  },
  {
   "cell_type": "code",
   "execution_count": null,
   "id": "16c35983-a2a8-4c33-ad98-26f644b601bb",
   "metadata": {},
   "outputs": [],
   "source": []
  }
 ],
 "metadata": {
  "kernelspec": {
   "display_name": "Python 3 (ipykernel)",
   "language": "python",
   "name": "python3"
  },
  "language_info": {
   "codemirror_mode": {
    "name": "ipython",
    "version": 3
   },
   "file_extension": ".py",
   "mimetype": "text/x-python",
   "name": "python",
   "nbconvert_exporter": "python",
   "pygments_lexer": "ipython3",
   "version": "3.12.7"
  }
 },
 "nbformat": 4,
 "nbformat_minor": 5
}
